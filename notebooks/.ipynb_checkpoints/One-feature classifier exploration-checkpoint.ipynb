{
 "cells": [
  {
   "cell_type": "markdown",
   "metadata": {},
   "source": [
    "# One-feature classifier exploration\n",
    "\n",
    "This notebook presents results on creating one-feature classifiers, as a way of exploring which of them could have more predictive power.\n",
    "\n",
    "## Reading the data"
   ]
  },
  {
   "cell_type": "code",
   "execution_count": 1,
   "metadata": {},
   "outputs": [],
   "source": [
    "import sys\n",
    "sys.path.insert(0, '../scripts')\n",
    "import classifiers\n",
    "import preparation\n",
    "import evaluation\n",
    "import pandas as pd"
   ]
  },
  {
   "cell_type": "code",
   "execution_count": 2,
   "metadata": {},
   "outputs": [],
   "source": [
    "df = pd.read_csv(\"../data/raw/block-groups.csv\")"
   ]
  },
  {
   "cell_type": "markdown",
   "metadata": {},
   "source": [
    "Now we keep only the block groups in the Cook County for years 2016"
   ]
  },
  {
   "cell_type": "code",
   "execution_count": 3,
   "metadata": {},
   "outputs": [],
   "source": [
    "df = df[df['parent-location']=='Cook County, Illinois']\n",
    "#df = df[(df['year']>=2012) & (df['year']<=2016)]\n",
    "df = df[df['year']==2016]"
   ]
  },
  {
   "cell_type": "markdown",
   "metadata": {},
   "source": [
    "Now we generate our desired label: upper 10% of # evictions / # eviction filings -- I arbitrarily call it 'evictions-effectiveness'"
   ]
  },
  {
   "cell_type": "code",
   "execution_count": 4,
   "metadata": {},
   "outputs": [],
   "source": [
    "df['evictions-effectiveness'] = df['evictions'] / df['eviction-filings']\n",
    "preparation.fill_nas_other(df, 'evictions-effectiveness', 0)\n",
    "perc90 = df['evictions-effectiveness'].quantile(0.9)\n",
    "df.loc[df['evictions-effectiveness'] >= perc90, 'upper10'] = 1\n",
    "df.loc[df['upper10'].isna(), 'upper10'] = 0"
   ]
  },
  {
   "cell_type": "markdown",
   "metadata": {},
   "source": [
    "## Now we analyze\n",
    "\n",
    "This is the approach:\n",
    "\n",
    "1. Select the features we'll use\n",
    "2. Impute missing values\n",
    "3. Loop over each feature and build every classifier with every feature\n",
    "4. Present all the results in a table to compare them"
   ]
  },
  {
   "cell_type": "code",
   "execution_count": 5,
   "metadata": {},
   "outputs": [],
   "source": [
    "features = ['population', 'poverty-rate', 'renter-occupied-households', 'pct-renter-occupied', \\\n",
    "            'median-gross-rent', 'median-household-income', 'median-property-value', 'rent-burden', 'pct-white', \\\n",
    "            'pct-af-am', 'pct-hispanic', 'pct-am-ind', 'pct-asian', 'pct-nh-pi', 'pct-multiple', 'pct-other']"
   ]
  },
  {
   "cell_type": "code",
   "execution_count": 6,
   "metadata": {},
   "outputs": [],
   "source": [
    "impute_median = ['median-gross-rent', 'median-household-income', 'median-property-value', 'rent-burden']\n",
    "for feature in impute_median:\n",
    "    preparation.fill_nas_median(df, feature)"
   ]
  },
  {
   "cell_type": "code",
   "execution_count": 7,
   "metadata": {},
   "outputs": [],
   "source": [
    "test_sets = {}\n",
    "for feature in features:\n",
    "    test_sets[feature] = df[feature].values.reshape(-1, 1)"
   ]
  },
  {
   "cell_type": "code",
   "execution_count": 10,
   "metadata": {},
   "outputs": [
    {
     "name": "stderr",
     "output_type": "stream",
     "text": [
      "/home/luis_eduardo/.local/lib/python3.6/site-packages/sklearn/svm/base.py:931: ConvergenceWarning: Liblinear failed to converge, increase the number of iterations.\n",
      "  \"the number of iterations.\", ConvergenceWarning)\n",
      "/home/luis_eduardo/.local/lib/python3.6/site-packages/sklearn/svm/base.py:931: ConvergenceWarning: Liblinear failed to converge, increase the number of iterations.\n",
      "  \"the number of iterations.\", ConvergenceWarning)\n",
      "/home/luis_eduardo/.local/lib/python3.6/site-packages/sklearn/svm/base.py:931: ConvergenceWarning: Liblinear failed to converge, increase the number of iterations.\n",
      "  \"the number of iterations.\", ConvergenceWarning)\n",
      "/home/luis_eduardo/.local/lib/python3.6/site-packages/sklearn/svm/base.py:931: ConvergenceWarning: Liblinear failed to converge, increase the number of iterations.\n",
      "  \"the number of iterations.\", ConvergenceWarning)\n",
      "/home/luis_eduardo/.local/lib/python3.6/site-packages/sklearn/svm/base.py:931: ConvergenceWarning: Liblinear failed to converge, increase the number of iterations.\n",
      "  \"the number of iterations.\", ConvergenceWarning)\n",
      "/home/luis_eduardo/.local/lib/python3.6/site-packages/sklearn/svm/base.py:931: ConvergenceWarning: Liblinear failed to converge, increase the number of iterations.\n",
      "  \"the number of iterations.\", ConvergenceWarning)\n",
      "/home/luis_eduardo/.local/lib/python3.6/site-packages/sklearn/svm/base.py:931: ConvergenceWarning: Liblinear failed to converge, increase the number of iterations.\n",
      "  \"the number of iterations.\", ConvergenceWarning)\n",
      "/home/luis_eduardo/.local/lib/python3.6/site-packages/sklearn/svm/base.py:931: ConvergenceWarning: Liblinear failed to converge, increase the number of iterations.\n",
      "  \"the number of iterations.\", ConvergenceWarning)\n",
      "/home/luis_eduardo/.local/lib/python3.6/site-packages/sklearn/svm/base.py:931: ConvergenceWarning: Liblinear failed to converge, increase the number of iterations.\n",
      "  \"the number of iterations.\", ConvergenceWarning)\n",
      "/home/luis_eduardo/.local/lib/python3.6/site-packages/sklearn/svm/base.py:931: ConvergenceWarning: Liblinear failed to converge, increase the number of iterations.\n",
      "  \"the number of iterations.\", ConvergenceWarning)\n",
      "/home/luis_eduardo/.local/lib/python3.6/site-packages/sklearn/svm/base.py:931: ConvergenceWarning: Liblinear failed to converge, increase the number of iterations.\n",
      "  \"the number of iterations.\", ConvergenceWarning)\n",
      "/home/luis_eduardo/.local/lib/python3.6/site-packages/sklearn/svm/base.py:931: ConvergenceWarning: Liblinear failed to converge, increase the number of iterations.\n",
      "  \"the number of iterations.\", ConvergenceWarning)\n",
      "/home/luis_eduardo/.local/lib/python3.6/site-packages/sklearn/svm/base.py:931: ConvergenceWarning: Liblinear failed to converge, increase the number of iterations.\n",
      "  \"the number of iterations.\", ConvergenceWarning)\n",
      "/home/luis_eduardo/.local/lib/python3.6/site-packages/sklearn/svm/base.py:931: ConvergenceWarning: Liblinear failed to converge, increase the number of iterations.\n",
      "  \"the number of iterations.\", ConvergenceWarning)\n",
      "/home/luis_eduardo/.local/lib/python3.6/site-packages/sklearn/svm/base.py:931: ConvergenceWarning: Liblinear failed to converge, increase the number of iterations.\n",
      "  \"the number of iterations.\", ConvergenceWarning)\n",
      "/home/luis_eduardo/.local/lib/python3.6/site-packages/sklearn/svm/base.py:931: ConvergenceWarning: Liblinear failed to converge, increase the number of iterations.\n",
      "  \"the number of iterations.\", ConvergenceWarning)\n"
     ]
    }
   ],
   "source": [
    "models = []\n",
    "for feature in features:\n",
    "    models.append(classifiers.boosting(test_sets[feature], df['upper10']))\n",
    "    models.append(classifiers.bagging(test_sets[feature], df['upper10']))\n",
    "    models.append(classifiers.random_forest(test_sets[feature], df['upper10']))\n",
    "    models.append(classifiers.svm(test_sets[feature], df['upper10']))\n",
    "    models.append(classifiers.logistic_regression(test_sets[feature], df['upper10']))\n",
    "    models.append(classifiers.decision_tree(test_sets[feature], df['upper10']))\n",
    "    models.append(classifiers.nearest_neighbors(test_sets[feature], df['upper10']))"
   ]
  },
  {
   "cell_type": "code",
   "execution_count": 12,
   "metadata": {},
   "outputs": [
    {
     "data": {
      "text/plain": [
       "8380      435.0\n",
       "8397     1496.0\n",
       "8414     2175.0\n",
       "8431     1785.0\n",
       "8448     4339.0\n",
       "8465     1105.0\n",
       "8482     1052.0\n",
       "8499     1252.0\n",
       "8516     1010.0\n",
       "8533     2046.0\n",
       "8550     1292.0\n",
       "8567     1729.0\n",
       "8584     1755.0\n",
       "8601      780.0\n",
       "8618     2476.0\n",
       "8635     1050.0\n",
       "8652     1640.0\n",
       "8669     1147.0\n",
       "8686     1180.0\n",
       "8703     2233.0\n",
       "8720     1442.0\n",
       "8737      638.0\n",
       "8754     2662.0\n",
       "8771      903.0\n",
       "8788     1753.0\n",
       "8805     1240.0\n",
       "8822     1875.0\n",
       "8839     2124.0\n",
       "8856     1564.0\n",
       "8873     1515.0\n",
       "          ...  \n",
       "75751    1701.0\n",
       "75768    1924.0\n",
       "75785     869.0\n",
       "75802     426.0\n",
       "75819     214.0\n",
       "75836    1396.0\n",
       "75853     376.0\n",
       "75870    1285.0\n",
       "75887    1563.0\n",
       "75904    1374.0\n",
       "75921     557.0\n",
       "75938    1265.0\n",
       "75955    1273.0\n",
       "75972    1848.0\n",
       "75989    1281.0\n",
       "76006    8572.0\n",
       "76023    1093.0\n",
       "76040    1546.0\n",
       "76057    1019.0\n",
       "76074    1421.0\n",
       "76091     961.0\n",
       "76108     892.0\n",
       "76125     906.0\n",
       "76142     428.0\n",
       "76159     962.0\n",
       "76176     635.0\n",
       "76193     699.0\n",
       "76210       0.0\n",
       "76227       0.0\n",
       "76244       0.0\n",
       "Name: population, Length: 3993, dtype: float64"
      ]
     },
     "execution_count": 12,
     "metadata": {},
     "output_type": "execute_result"
    }
   ],
   "source": [
    "ar = df['population']"
   ]
  },
  {
   "cell_type": "markdown",
   "metadata": {},
   "source": []
  },
  {
   "cell_type": "code",
   "execution_count": null,
   "metadata": {},
   "outputs": [],
   "source": []
  }
 ],
 "metadata": {
  "kernelspec": {
   "display_name": "Python 3",
   "language": "python",
   "name": "python3"
  },
  "language_info": {
   "codemirror_mode": {
    "name": "ipython",
    "version": 3
   },
   "file_extension": ".py",
   "mimetype": "text/x-python",
   "name": "python",
   "nbconvert_exporter": "python",
   "pygments_lexer": "ipython3",
   "version": "3.6.7"
  }
 },
 "nbformat": 4,
 "nbformat_minor": 2
}
