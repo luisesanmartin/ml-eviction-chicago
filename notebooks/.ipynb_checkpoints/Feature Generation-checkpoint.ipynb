{
 "cells": [
  {
   "cell_type": "code",
   "execution_count": 30,
   "metadata": {},
   "outputs": [],
   "source": [
    "import sys\n",
    "sys.path.insert(0, '../scripts')\n",
    "import pandas as pd\n",
    "import numpy as np\n",
    "import feature_gen as fg"
   ]
  },
  {
   "cell_type": "code",
   "execution_count": 31,
   "metadata": {},
   "outputs": [],
   "source": [
    "df = pd.read_csv(\"../data/raw/block-groups.csv\")"
   ]
  },
  {
   "cell_type": "code",
   "execution_count": 32,
   "metadata": {},
   "outputs": [
    {
     "data": {
      "text/plain": [
       "(164747, 27)"
      ]
     },
     "execution_count": 32,
     "metadata": {},
     "output_type": "execute_result"
    }
   ],
   "source": [
    "df.shape"
   ]
  },
  {
   "cell_type": "code",
   "execution_count": 33,
   "metadata": {},
   "outputs": [],
   "source": [
    "# Add outcome label\n",
    "df['evictions-effectiveness'] = df['evictions'] / df['eviction-filings']\n",
    "df['evictions-effectiveness'].fillna(value=0, inplace=True)"
   ]
  },
  {
   "cell_type": "code",
   "execution_count": 34,
   "metadata": {},
   "outputs": [],
   "source": [
    "years_list = [2012, 2013, 2014, 2015, 2016]"
   ]
  },
  {
   "cell_type": "code",
   "execution_count": 35,
   "metadata": {},
   "outputs": [],
   "source": [
    "# Filter df so that only years we care about are included\n",
    "evic_df = df[df['year'].isin(years_list)]\n",
    "evic_df = evic_df.loc[evic_df[\"parent-location\"] == \"Cook County, Illinois\"]"
   ]
  },
  {
   "cell_type": "code",
   "execution_count": 36,
   "metadata": {},
   "outputs": [
    {
     "data": {
      "text/plain": [
       "(19965, 28)"
      ]
     },
     "execution_count": 36,
     "metadata": {},
     "output_type": "execute_result"
    }
   ],
   "source": [
    "evic_df.shape"
   ]
  },
  {
   "cell_type": "code",
   "execution_count": 39,
   "metadata": {},
   "outputs": [
    {
     "name": "stdout",
     "output_type": "stream",
     "text": [
      "28\n"
     ]
    },
    {
     "data": {
      "text/plain": [
       "['GEOID',\n",
       " 'year',\n",
       " 'name',\n",
       " 'parent-location',\n",
       " 'population',\n",
       " 'poverty-rate',\n",
       " 'renter-occupied-households',\n",
       " 'pct-renter-occupied',\n",
       " 'median-gross-rent',\n",
       " 'median-household-income',\n",
       " 'median-property-value',\n",
       " 'rent-burden',\n",
       " 'pct-white',\n",
       " 'pct-af-am',\n",
       " 'pct-hispanic',\n",
       " 'pct-am-ind',\n",
       " 'pct-asian',\n",
       " 'pct-nh-pi',\n",
       " 'pct-multiple',\n",
       " 'pct-other',\n",
       " 'eviction-filings',\n",
       " 'evictions',\n",
       " 'eviction-rate',\n",
       " 'eviction-filing-rate',\n",
       " 'low-flag',\n",
       " 'imputed',\n",
       " 'subbed',\n",
       " 'evictions-effectiveness']"
      ]
     },
     "execution_count": 39,
     "metadata": {},
     "output_type": "execute_result"
    }
   ],
   "source": [
    "features = list(df.columns)\n",
    "print(len(features))\n",
    "features"
   ]
  },
  {
   "cell_type": "code",
   "execution_count": 22,
   "metadata": {},
   "outputs": [],
   "source": [
    "#df.loc[df['evictions-effectiveness'] <= 0.10, 'less_than_10'] = 1"
   ]
  },
  {
   "cell_type": "code",
   "execution_count": 27,
   "metadata": {},
   "outputs": [],
   "source": [
    "# Select attributes not to generate new features from\n",
    "to_remove = ['GEOID', 'name', 'parent-location']\n",
    "for attribute in to_remove:\n",
    "    features.remove(attribute)"
   ]
  },
  {
   "cell_type": "code",
   "execution_count": 28,
   "metadata": {},
   "outputs": [
    {
     "data": {
      "text/plain": [
       "['year',\n",
       " 'population',\n",
       " 'poverty-rate',\n",
       " 'renter-occupied-households',\n",
       " 'pct-renter-occupied',\n",
       " 'median-gross-rent',\n",
       " 'median-household-income',\n",
       " 'median-property-value',\n",
       " 'rent-burden',\n",
       " 'pct-white',\n",
       " 'pct-af-am',\n",
       " 'pct-hispanic',\n",
       " 'pct-am-ind',\n",
       " 'pct-asian',\n",
       " 'pct-nh-pi',\n",
       " 'pct-multiple',\n",
       " 'pct-other',\n",
       " 'eviction-filings',\n",
       " 'evictions',\n",
       " 'eviction-rate',\n",
       " 'eviction-filing-rate',\n",
       " 'low-flag',\n",
       " 'imputed',\n",
       " 'subbed',\n",
       " 'evictions-effectiveness',\n",
       " 'less_than_10']"
      ]
     },
     "execution_count": 28,
     "metadata": {},
     "output_type": "execute_result"
    }
   ],
   "source": [
    "features"
   ]
  },
  {
   "cell_type": "code",
   "execution_count": null,
   "metadata": {},
   "outputs": [],
   "source": []
  }
 ],
 "metadata": {
  "kernelspec": {
   "display_name": "Python 3",
   "language": "python",
   "name": "python3"
  },
  "language_info": {
   "codemirror_mode": {
    "name": "ipython",
    "version": 3
   },
   "file_extension": ".py",
   "mimetype": "text/x-python",
   "name": "python",
   "nbconvert_exporter": "python",
   "pygments_lexer": "ipython3",
   "version": "3.7.3"
  }
 },
 "nbformat": 4,
 "nbformat_minor": 2
}
