{
 "cells": [
  {
   "cell_type": "code",
   "execution_count": 135,
   "metadata": {},
   "outputs": [],
   "source": [
    "import sys\n",
    "sys.path.insert(0, '../scripts')\n",
    "import pandas as pd\n",
    "import numpy as np\n",
    "import feature_gen as fg"
   ]
  },
  {
   "cell_type": "code",
   "execution_count": 136,
   "metadata": {},
   "outputs": [],
   "source": [
    "# Load data that has already been augemented with ACS info\n",
    "df = pd.read_csv(\"../data/work/block-groups_2012-2016_with-acs.csv\")"
   ]
  },
  {
   "cell_type": "code",
   "execution_count": 137,
   "metadata": {},
   "outputs": [
    {
     "data": {
      "text/plain": [
       "(15972, 43)"
      ]
     },
     "execution_count": 137,
     "metadata": {},
     "output_type": "execute_result"
    }
   ],
   "source": [
    "df.shape"
   ]
  },
  {
   "cell_type": "code",
   "execution_count": 138,
   "metadata": {},
   "outputs": [],
   "source": [
    "# Determine which years we care about\n",
    "years_list = [2013, 2014, 2015, 2016]"
   ]
  },
  {
   "cell_type": "code",
   "execution_count": 127,
   "metadata": {},
   "outputs": [],
   "source": [
    "# Add outcome label\n",
    "#df['evictions-effectiveness'] = df['evictions'] / df['eviction-filings']\n",
    "#df['evictions-effectiveness'].fillna(value=0, inplace=True)"
   ]
  },
  {
   "cell_type": "code",
   "execution_count": 139,
   "metadata": {},
   "outputs": [],
   "source": [
    "# Filter df so that only years and areas we care about are included\n",
    "evic_df = df[df['year'].isin(years_list)]\n",
    "evic_df = evic_df.loc[evic_df[\"parent-location\"] == \"Cook County, Illinois\"]"
   ]
  },
  {
   "cell_type": "code",
   "execution_count": 140,
   "metadata": {},
   "outputs": [
    {
     "data": {
      "text/plain": [
       "(15972, 43)"
      ]
     },
     "execution_count": 140,
     "metadata": {},
     "output_type": "execute_result"
    }
   ],
   "source": [
    "evic_df.shape\n",
    "# ACS augmented data should have already been filtered for Cook County and years, so number of rows should be the same"
   ]
  },
  {
   "cell_type": "code",
   "execution_count": 141,
   "metadata": {},
   "outputs": [
    {
     "name": "stdout",
     "output_type": "stream",
     "text": [
      "43\n"
     ]
    },
    {
     "data": {
      "text/plain": [
       "['GEOID',\n",
       " 'year',\n",
       " 'name',\n",
       " 'parent-location',\n",
       " 'population',\n",
       " 'poverty-rate',\n",
       " 'renter-occupied-households',\n",
       " 'pct-renter-occupied',\n",
       " 'median-gross-rent',\n",
       " 'median-household-income',\n",
       " 'median-property-value',\n",
       " 'rent-burden',\n",
       " 'pct-white',\n",
       " 'pct-af-am',\n",
       " 'pct-hispanic',\n",
       " 'pct-am-ind',\n",
       " 'pct-asian',\n",
       " 'pct-nh-pi',\n",
       " 'pct-multiple',\n",
       " 'pct-other',\n",
       " 'eviction-filings',\n",
       " 'evictions',\n",
       " 'eviction-rate',\n",
       " 'eviction-filing-rate',\n",
       " 'low-flag',\n",
       " 'imputed',\n",
       " 'subbed',\n",
       " 'total_for_public_assistance_income',\n",
       " 'with_public_assistance_income',\n",
       " 'estimate_total_in_labor_force',\n",
       " 'estimate_civilian_unemployed',\n",
       " 'total_for_householder_tenure',\n",
       " 'renter_occupied',\n",
       " 'renter_moved_2015/2010_later',\n",
       " 'renter_moved_2010-2014/2000-2009',\n",
       " 'renter_moved_2000-2009/1990-1999',\n",
       " 'renter_moved_1990-1999/1980-1989',\n",
       " 'renter_moved_1980-1989/1970-1979',\n",
       " 'renter_moved_1979/1969_earlier',\n",
       " 'state',\n",
       " 'county',\n",
       " 'tract',\n",
       " 'block group']"
      ]
     },
     "execution_count": 141,
     "metadata": {},
     "output_type": "execute_result"
    }
   ],
   "source": [
    "# Grab all attributes from the dataframe\n",
    "features = list(evic_df.columns)\n",
    "print(len(features))\n",
    "features"
   ]
  },
  {
   "cell_type": "code",
   "execution_count": 150,
   "metadata": {},
   "outputs": [
    {
     "data": {
      "text/plain": [
       "GEOID                                   int64\n",
       "year                                    int64\n",
       "name                                   object\n",
       "parent-location                        object\n",
       "population                            float64\n",
       "poverty-rate                          float64\n",
       "renter-occupied-households            float64\n",
       "pct-renter-occupied                   float64\n",
       "median-gross-rent                     float64\n",
       "median-household-income               float64\n",
       "median-property-value                 float64\n",
       "rent-burden                           float64\n",
       "pct-white                             float64\n",
       "pct-af-am                             float64\n",
       "pct-hispanic                          float64\n",
       "pct-am-ind                            float64\n",
       "pct-asian                             float64\n",
       "pct-nh-pi                             float64\n",
       "pct-multiple                          float64\n",
       "pct-other                             float64\n",
       "eviction-filings                      float64\n",
       "evictions                             float64\n",
       "eviction-rate                         float64\n",
       "eviction-filing-rate                  float64\n",
       "low-flag                                int64\n",
       "imputed                                 int64\n",
       "subbed                                  int64\n",
       "total_for_public_assistance_income      int64\n",
       "with_public_assistance_income           int64\n",
       "estimate_total_in_labor_force           int64\n",
       "estimate_civilian_unemployed            int64\n",
       "total_for_householder_tenure            int64\n",
       "renter_occupied                         int64\n",
       "renter_moved_2015/2010_later            int64\n",
       "renter_moved_2010-2014/2000-2009        int64\n",
       "renter_moved_2000-2009/1990-1999        int64\n",
       "renter_moved_1990-1999/1980-1989        int64\n",
       "renter_moved_1980-1989/1970-1979        int64\n",
       "renter_moved_1979/1969_earlier          int64\n",
       "state                                   int64\n",
       "county                                  int64\n",
       "tract                                   int64\n",
       "block group                             int64\n",
       "dtype: object"
      ]
     },
     "execution_count": 150,
     "metadata": {},
     "output_type": "execute_result"
    }
   ],
   "source": [
    "# Explore attribute datatypes\n",
    "evic_df.dtypes"
   ]
  },
  {
   "cell_type": "code",
   "execution_count": 156,
   "metadata": {},
   "outputs": [
    {
     "data": {
      "text/plain": [
       "80100     28\n",
       "250500    28\n",
       "480400    28\n",
       "820101    28\n",
       "150300    28\n",
       "100200    28\n",
       "815500    28\n",
       "460500    28\n",
       "812000    24\n",
       "191100    24\n",
       "821800    24\n",
       "71500     24\n",
       "800200    24\n",
       "81000     24\n",
       "561100    24\n",
       "640300    24\n",
       "700501    24\n",
       "63200     24\n",
       "806003    24\n",
       "81300     24\n",
       "831600    24\n",
       "230600    24\n",
       "805902    24\n",
       "842100    24\n",
       "805111    24\n",
       "813400    24\n",
       "650200    24\n",
       "710400    24\n",
       "100300    24\n",
       "826100    24\n",
       "          ..\n",
       "190100     4\n",
       "420300     4\n",
       "130200     4\n",
       "310500     4\n",
       "240500     4\n",
       "60500      4\n",
       "240700     4\n",
       "671100     4\n",
       "170900     4\n",
       "670400     4\n",
       "310700     4\n",
       "630200     4\n",
       "490400     4\n",
       "760802     4\n",
       "802300     4\n",
       "400300     4\n",
       "843400     4\n",
       "62400      4\n",
       "580300     4\n",
       "62600      4\n",
       "31800      4\n",
       "242800     4\n",
       "310400     4\n",
       "240300     4\n",
       "81900      4\n",
       "30701      4\n",
       "630100     4\n",
       "835700     4\n",
       "671900     4\n",
       "71600      4\n",
       "Name: tract, Length: 1319, dtype: int64"
      ]
     },
     "execution_count": 156,
     "metadata": {},
     "output_type": "execute_result"
    }
   ],
   "source": [
    "# Explore value counts for different attributes to see if they make good candidates for discretizations\n",
    "evic_df['tract'].value_counts()"
   ]
  },
  {
   "cell_type": "code",
   "execution_count": 149,
   "metadata": {},
   "outputs": [
    {
     "name": "stdout",
     "output_type": "stream",
     "text": [
      "['name', 'parent-location']\n"
     ]
    }
   ],
   "source": [
    "# Explore object datatypes for possible discretizations\n",
    "str_columns = [column for column in evic_df.columns if (evic_df[column].dtype=='O')]\n",
    "print(str_columns)"
   ]
  },
  {
   "cell_type": "markdown",
   "metadata": {},
   "source": [
    "Attribute 'tract' has too many unique values to discretize. Block group 'name' is a unique identifier. 'Parent-location' attribute will be the same for all rows (i.e. Cook County). None of these attributes make good candidates for discretizations."
   ]
  },
  {
   "cell_type": "code",
   "execution_count": 142,
   "metadata": {},
   "outputs": [],
   "source": [
    "# Select attributes not to generate new features from\n",
    "# Note that'block group' attribute from ACS data is a unique ID of a block group within one tract\n",
    "# GEOID of a block group = ACS's state + county + tract + block group ID numbers\n",
    "to_remove = ['GEOID', 'year', 'name', 'parent-location', 'state', 'county', 'tract', 'block group']\n",
    "for attribute in to_remove:\n",
    "    features.remove(attribute)"
   ]
  },
  {
   "cell_type": "code",
   "execution_count": 143,
   "metadata": {},
   "outputs": [
    {
     "name": "stdout",
     "output_type": "stream",
     "text": [
      "37\n"
     ]
    },
    {
     "data": {
      "text/plain": [
       "['population',\n",
       " 'poverty-rate',\n",
       " 'renter-occupied-households',\n",
       " 'pct-renter-occupied',\n",
       " 'median-gross-rent',\n",
       " 'median-household-income',\n",
       " 'median-property-value',\n",
       " 'rent-burden',\n",
       " 'pct-white',\n",
       " 'pct-af-am',\n",
       " 'pct-hispanic',\n",
       " 'pct-am-ind',\n",
       " 'pct-asian',\n",
       " 'pct-nh-pi',\n",
       " 'pct-multiple',\n",
       " 'pct-other',\n",
       " 'eviction-filings',\n",
       " 'evictions',\n",
       " 'eviction-rate',\n",
       " 'eviction-filing-rate',\n",
       " 'low-flag',\n",
       " 'imputed',\n",
       " 'subbed',\n",
       " 'total_for_public_assistance_income',\n",
       " 'with_public_assistance_income',\n",
       " 'estimate_total_in_labor_force',\n",
       " 'estimate_civilian_unemployed',\n",
       " 'total_for_householder_tenure',\n",
       " 'renter_occupied',\n",
       " 'renter_moved_2015/2010_later',\n",
       " 'renter_moved_2010-2014/2000-2009',\n",
       " 'renter_moved_2000-2009/1990-1999',\n",
       " 'renter_moved_1990-1999/1980-1989',\n",
       " 'renter_moved_1980-1989/1970-1979',\n",
       " 'renter_moved_1979/1969_earlier',\n",
       " 'tract',\n",
       " 'block group']"
      ]
     },
     "execution_count": 143,
     "metadata": {},
     "output_type": "execute_result"
    }
   ],
   "source": [
    "# Check updated list of features\n",
    "print(len(features))\n",
    "features"
   ]
  },
  {
   "cell_type": "code",
   "execution_count": 144,
   "metadata": {},
   "outputs": [],
   "source": [
    "# Generate quantile features for outcome label\n",
    "features_df = fg.generate_quantile_features(evic_df, features, 4, years_list=years_list)"
   ]
  },
  {
   "cell_type": "code",
   "execution_count": 145,
   "metadata": {},
   "outputs": [
    {
     "name": "stdout",
     "output_type": "stream",
     "text": [
      "evic_df: (15972, 43)\n",
      "features_df: (15972, 1153)\n"
     ]
    }
   ],
   "source": [
    "print('evic_df:', evic_df.shape)\n",
    "print('features_df:', features_df.shape)"
   ]
  },
  {
   "cell_type": "code",
   "execution_count": 146,
   "metadata": {},
   "outputs": [
    {
     "name": "stdout",
     "output_type": "stream",
     "text": [
      "GEOID\n",
      "year\n",
      "name\n",
      "parent-location\n",
      "population\n",
      "poverty-rate\n",
      "renter-occupied-households\n",
      "pct-renter-occupied\n",
      "median-gross-rent\n",
      "median-household-income\n",
      "median-property-value\n",
      "rent-burden\n",
      "pct-white\n",
      "pct-af-am\n",
      "pct-hispanic\n",
      "pct-am-ind\n",
      "pct-asian\n",
      "pct-nh-pi\n",
      "pct-multiple\n",
      "pct-other\n",
      "eviction-filings\n",
      "evictions\n",
      "eviction-rate\n",
      "eviction-filing-rate\n",
      "low-flag\n",
      "imputed\n",
      "subbed\n",
      "total_for_public_assistance_income\n",
      "with_public_assistance_income\n",
      "estimate_total_in_labor_force\n",
      "estimate_civilian_unemployed\n",
      "total_for_householder_tenure\n",
      "renter_occupied\n",
      "renter_moved_2015/2010_later\n",
      "renter_moved_2010-2014/2000-2009\n",
      "renter_moved_2000-2009/1990-1999\n",
      "renter_moved_1990-1999/1980-1989\n",
      "renter_moved_1980-1989/1970-1979\n",
      "renter_moved_1979/1969_earlier\n",
      "state\n",
      "county\n",
      "tract\n",
      "block group\n",
      "population_2013_4quantiles_categorical\n",
      "poverty-rate_2013_4quantiles_categorical\n",
      "renter-occupied-households_2013_4quantiles_categorical\n",
      "pct-renter-occupied_2013_4quantiles_categorical\n",
      "median-gross-rent_2013_4quantiles_categorical\n",
      "median-household-income_2013_4quantiles_categorical\n",
      "median-property-value_2013_4quantiles_categorical\n",
      "rent-burden_2013_4quantiles_categorical\n",
      "pct-white_2013_4quantiles_categorical\n",
      "pct-af-am_2013_4quantiles_categorical\n",
      "pct-hispanic_2013_4quantiles_categorical\n",
      "pct-am-ind_2013_4quantiles_categorical\n",
      "pct-asian_2013_4quantiles_categorical\n",
      "pct-nh-pi_2013_4quantiles_categorical\n",
      "pct-multiple_2013_4quantiles_categorical\n",
      "pct-other_2013_4quantiles_categorical\n",
      "eviction-filings_2013_4quantiles_categorical\n",
      "evictions_2013_4quantiles_categorical\n",
      "eviction-rate_2013_4quantiles_categorical\n",
      "eviction-filing-rate_2013_4quantiles_categorical\n",
      "low-flag_2013_4quantiles_categorical\n",
      "imputed_2013_4quantiles_categorical\n",
      "subbed_2013_4quantiles_categorical\n",
      "total_for_public_assistance_income_2013_4quantiles_categorical\n",
      "with_public_assistance_income_2013_4quantiles_categorical\n",
      "estimate_total_in_labor_force_2013_4quantiles_categorical\n",
      "estimate_civilian_unemployed_2013_4quantiles_categorical\n",
      "total_for_householder_tenure_2013_4quantiles_categorical\n",
      "renter_occupied_2013_4quantiles_categorical\n",
      "renter_moved_2015/2010_later_2013_4quantiles_categorical\n",
      "renter_moved_2010-2014/2000-2009_2013_4quantiles_categorical\n",
      "renter_moved_2000-2009/1990-1999_2013_4quantiles_categorical\n",
      "renter_moved_1990-1999/1980-1989_2013_4quantiles_categorical\n",
      "renter_moved_1980-1989/1970-1979_2013_4quantiles_categorical\n",
      "renter_moved_1979/1969_earlier_2013_4quantiles_categorical\n",
      "tract_2013_4quantiles_categorical\n",
      "block group_2013_4quantiles_categorical\n",
      "population_2013_4quantiles_1.0\n",
      "population_2013_4quantiles_2.0\n",
      "population_2013_4quantiles_3.0\n",
      "population_2013_4quantiles_4.0\n",
      "population_2013_4quantiles_nan\n",
      "poverty-rate_2013_4quantiles_1.0\n",
      "poverty-rate_2013_4quantiles_2.0\n",
      "poverty-rate_2013_4quantiles_3.0\n",
      "poverty-rate_2013_4quantiles_4.0\n",
      "poverty-rate_2013_4quantiles_nan\n",
      "renter-occupied-households_2013_4quantiles_1.0\n",
      "renter-occupied-households_2013_4quantiles_2.0\n",
      "renter-occupied-households_2013_4quantiles_3.0\n",
      "renter-occupied-households_2013_4quantiles_4.0\n",
      "renter-occupied-households_2013_4quantiles_nan\n",
      "pct-renter-occupied_2013_4quantiles_1.0\n",
      "pct-renter-occupied_2013_4quantiles_2.0\n",
      "pct-renter-occupied_2013_4quantiles_3.0\n",
      "pct-renter-occupied_2013_4quantiles_4.0\n",
      "pct-renter-occupied_2013_4quantiles_nan\n",
      "median-gross-rent_2013_4quantiles_1.0\n"
     ]
    }
   ],
   "source": [
    "# Spot check new feature names\n",
    "for i in range(0, 101):\n",
    "    cols = features_df.columns\n",
    "    print(cols[i])"
   ]
  },
  {
   "cell_type": "code",
   "execution_count": 147,
   "metadata": {},
   "outputs": [
    {
     "data": {
      "text/html": [
       "<div>\n",
       "<style scoped>\n",
       "    .dataframe tbody tr th:only-of-type {\n",
       "        vertical-align: middle;\n",
       "    }\n",
       "\n",
       "    .dataframe tbody tr th {\n",
       "        vertical-align: top;\n",
       "    }\n",
       "\n",
       "    .dataframe thead th {\n",
       "        text-align: right;\n",
       "    }\n",
       "</style>\n",
       "<table border=\"1\" class=\"dataframe\">\n",
       "  <thead>\n",
       "    <tr style=\"text-align: right;\">\n",
       "      <th></th>\n",
       "      <th>GEOID</th>\n",
       "      <th>year</th>\n",
       "      <th>name</th>\n",
       "      <th>parent-location</th>\n",
       "      <th>population</th>\n",
       "      <th>poverty-rate</th>\n",
       "      <th>renter-occupied-households</th>\n",
       "      <th>pct-renter-occupied</th>\n",
       "      <th>median-gross-rent</th>\n",
       "      <th>median-household-income</th>\n",
       "      <th>...</th>\n",
       "      <th>tract_4quantiles_1.0</th>\n",
       "      <th>tract_4quantiles_2.0</th>\n",
       "      <th>tract_4quantiles_3.0</th>\n",
       "      <th>tract_4quantiles_4.0</th>\n",
       "      <th>tract_4quantiles_nan</th>\n",
       "      <th>block group_4quantiles_1.0</th>\n",
       "      <th>block group_4quantiles_2.0</th>\n",
       "      <th>block group_4quantiles_3.0</th>\n",
       "      <th>block group_4quantiles_4.0</th>\n",
       "      <th>block group_4quantiles_nan</th>\n",
       "    </tr>\n",
       "  </thead>\n",
       "  <tbody>\n",
       "    <tr>\n",
       "      <th>0</th>\n",
       "      <td>170310101001</td>\n",
       "      <td>2013</td>\n",
       "      <td>101.1</td>\n",
       "      <td>Cook County, Illinois</td>\n",
       "      <td>435.0</td>\n",
       "      <td>18.92</td>\n",
       "      <td>159.0</td>\n",
       "      <td>67.23</td>\n",
       "      <td>785.0</td>\n",
       "      <td>NaN</td>\n",
       "      <td>...</td>\n",
       "      <td>1</td>\n",
       "      <td>0</td>\n",
       "      <td>0</td>\n",
       "      <td>0</td>\n",
       "      <td>0</td>\n",
       "      <td>1</td>\n",
       "      <td>0</td>\n",
       "      <td>0</td>\n",
       "      <td>0</td>\n",
       "      <td>0</td>\n",
       "    </tr>\n",
       "    <tr>\n",
       "      <th>1</th>\n",
       "      <td>170310101001</td>\n",
       "      <td>2014</td>\n",
       "      <td>101.1</td>\n",
       "      <td>Cook County, Illinois</td>\n",
       "      <td>435.0</td>\n",
       "      <td>18.92</td>\n",
       "      <td>161.0</td>\n",
       "      <td>67.23</td>\n",
       "      <td>785.0</td>\n",
       "      <td>NaN</td>\n",
       "      <td>...</td>\n",
       "      <td>1</td>\n",
       "      <td>0</td>\n",
       "      <td>0</td>\n",
       "      <td>0</td>\n",
       "      <td>0</td>\n",
       "      <td>1</td>\n",
       "      <td>0</td>\n",
       "      <td>0</td>\n",
       "      <td>0</td>\n",
       "      <td>0</td>\n",
       "    </tr>\n",
       "    <tr>\n",
       "      <th>2</th>\n",
       "      <td>170310101001</td>\n",
       "      <td>2015</td>\n",
       "      <td>101.1</td>\n",
       "      <td>Cook County, Illinois</td>\n",
       "      <td>435.0</td>\n",
       "      <td>18.92</td>\n",
       "      <td>164.0</td>\n",
       "      <td>67.23</td>\n",
       "      <td>785.0</td>\n",
       "      <td>NaN</td>\n",
       "      <td>...</td>\n",
       "      <td>1</td>\n",
       "      <td>0</td>\n",
       "      <td>0</td>\n",
       "      <td>0</td>\n",
       "      <td>0</td>\n",
       "      <td>1</td>\n",
       "      <td>0</td>\n",
       "      <td>0</td>\n",
       "      <td>0</td>\n",
       "      <td>0</td>\n",
       "    </tr>\n",
       "    <tr>\n",
       "      <th>3</th>\n",
       "      <td>170310101001</td>\n",
       "      <td>2016</td>\n",
       "      <td>101.1</td>\n",
       "      <td>Cook County, Illinois</td>\n",
       "      <td>435.0</td>\n",
       "      <td>18.92</td>\n",
       "      <td>167.0</td>\n",
       "      <td>67.23</td>\n",
       "      <td>785.0</td>\n",
       "      <td>NaN</td>\n",
       "      <td>...</td>\n",
       "      <td>1</td>\n",
       "      <td>0</td>\n",
       "      <td>0</td>\n",
       "      <td>0</td>\n",
       "      <td>0</td>\n",
       "      <td>1</td>\n",
       "      <td>0</td>\n",
       "      <td>0</td>\n",
       "      <td>0</td>\n",
       "      <td>0</td>\n",
       "    </tr>\n",
       "    <tr>\n",
       "      <th>4</th>\n",
       "      <td>170310101002</td>\n",
       "      <td>2013</td>\n",
       "      <td>101.2</td>\n",
       "      <td>Cook County, Illinois</td>\n",
       "      <td>1496.0</td>\n",
       "      <td>28.28</td>\n",
       "      <td>860.0</td>\n",
       "      <td>92.78</td>\n",
       "      <td>762.0</td>\n",
       "      <td>22537.0</td>\n",
       "      <td>...</td>\n",
       "      <td>1</td>\n",
       "      <td>0</td>\n",
       "      <td>0</td>\n",
       "      <td>0</td>\n",
       "      <td>0</td>\n",
       "      <td>0</td>\n",
       "      <td>1</td>\n",
       "      <td>0</td>\n",
       "      <td>0</td>\n",
       "      <td>0</td>\n",
       "    </tr>\n",
       "  </tbody>\n",
       "</table>\n",
       "<p>5 rows × 1153 columns</p>\n",
       "</div>"
      ],
      "text/plain": [
       "          GEOID  year   name        parent-location  population  poverty-rate  \\\n",
       "0  170310101001  2013  101.1  Cook County, Illinois       435.0         18.92   \n",
       "1  170310101001  2014  101.1  Cook County, Illinois       435.0         18.92   \n",
       "2  170310101001  2015  101.1  Cook County, Illinois       435.0         18.92   \n",
       "3  170310101001  2016  101.1  Cook County, Illinois       435.0         18.92   \n",
       "4  170310101002  2013  101.2  Cook County, Illinois      1496.0         28.28   \n",
       "\n",
       "   renter-occupied-households  pct-renter-occupied  median-gross-rent  \\\n",
       "0                       159.0                67.23              785.0   \n",
       "1                       161.0                67.23              785.0   \n",
       "2                       164.0                67.23              785.0   \n",
       "3                       167.0                67.23              785.0   \n",
       "4                       860.0                92.78              762.0   \n",
       "\n",
       "   median-household-income  ...  tract_4quantiles_1.0  tract_4quantiles_2.0  \\\n",
       "0                      NaN  ...                     1                     0   \n",
       "1                      NaN  ...                     1                     0   \n",
       "2                      NaN  ...                     1                     0   \n",
       "3                      NaN  ...                     1                     0   \n",
       "4                  22537.0  ...                     1                     0   \n",
       "\n",
       "   tract_4quantiles_3.0  tract_4quantiles_4.0  tract_4quantiles_nan  \\\n",
       "0                     0                     0                     0   \n",
       "1                     0                     0                     0   \n",
       "2                     0                     0                     0   \n",
       "3                     0                     0                     0   \n",
       "4                     0                     0                     0   \n",
       "\n",
       "   block group_4quantiles_1.0  block group_4quantiles_2.0  \\\n",
       "0                           1                           0   \n",
       "1                           1                           0   \n",
       "2                           1                           0   \n",
       "3                           1                           0   \n",
       "4                           0                           1   \n",
       "\n",
       "   block group_4quantiles_3.0  block group_4quantiles_4.0  \\\n",
       "0                           0                           0   \n",
       "1                           0                           0   \n",
       "2                           0                           0   \n",
       "3                           0                           0   \n",
       "4                           0                           0   \n",
       "\n",
       "   block group_4quantiles_nan  \n",
       "0                           0  \n",
       "1                           0  \n",
       "2                           0  \n",
       "3                           0  \n",
       "4                           0  \n",
       "\n",
       "[5 rows x 1153 columns]"
      ]
     },
     "execution_count": 147,
     "metadata": {},
     "output_type": "execute_result"
    }
   ],
   "source": [
    "features_df.head()"
   ]
  },
  {
   "cell_type": "code",
   "execution_count": null,
   "metadata": {},
   "outputs": [],
   "source": [
    "# Exporting the result:\n",
    "features_df.to_csv('../data/work/block-groups_2012-2016_with-acs.csv', index=False)"
   ]
  }
 ],
 "metadata": {
  "kernelspec": {
   "display_name": "Python 3",
   "language": "python",
   "name": "python3"
  },
  "language_info": {
   "codemirror_mode": {
    "name": "ipython",
    "version": 3
   },
   "file_extension": ".py",
   "mimetype": "text/x-python",
   "name": "python",
   "nbconvert_exporter": "python",
   "pygments_lexer": "ipython3",
   "version": "3.7.3"
  }
 },
 "nbformat": 4,
 "nbformat_minor": 2
}
