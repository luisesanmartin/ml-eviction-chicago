{
 "cells": [
  {
   "cell_type": "code",
   "execution_count": 12,
   "metadata": {},
   "outputs": [
    {
     "name": "stdout",
     "output_type": "stream",
     "text": [
      "The autoreload extension is already loaded. To reload it, use:\n",
      "  %reload_ext autoreload\n"
     ]
    }
   ],
   "source": [
    "%load_ext autoreload\n",
    "%autoreload 2\n",
    "import sys\n",
    "sys.path.insert(0, '../scripts')\n",
    "import pipeline\n",
    "import feature_gen as fg\n",
    "import pandas as pd"
   ]
  },
  {
   "cell_type": "markdown",
   "metadata": {},
   "source": [
    "# ML Analysis\n",
    "\n",
    "We start by exporting the data:"
   ]
  },
  {
   "cell_type": "code",
   "execution_count": 2,
   "metadata": {},
   "outputs": [],
   "source": [
    "file = '../data/work/block-groups_2012-2016_with-acs_with-gen-features.csv'\n",
    "df = pipeline.read(file)"
   ]
  },
  {
   "cell_type": "markdown",
   "metadata": {},
   "source": [
    "Defining the train/test sets:"
   ]
  },
  {
   "cell_type": "code",
   "execution_count": 3,
   "metadata": {},
   "outputs": [],
   "source": [
    "years = [2013, 2014, 2015]\n",
    "dic_sets = {}\n",
    "for year in years:\n",
    "    next_year = year + 1\n",
    "    dic_sets['train ' + str(year) + ' / test ' + str(next_year)] = (df[df['year']==year], df[df['year']==next_year])"
   ]
  },
  {
   "cell_type": "markdown",
   "metadata": {},
   "source": [
    "Defining the feature columns:"
   ]
  },
  {
   "cell_type": "code",
   "execution_count": 4,
   "metadata": {},
   "outputs": [],
   "source": [
    "features = ['prev-yr_population_4quantiles_1.0', 'prev-yr_population_4quantiles_2.0', 'prev-yr_population_4quantiles_3.0', \\\n",
    "            'prev-yr_population_4quantiles_4.0', 'prev-yr_poverty-rate_4quantiles_1.0', 'prev-yr_poverty-rate_4quantiles_2.0', \\\n",
    "            'prev-yr_poverty-rate_4quantiles_3.0', 'prev-yr_poverty-rate_4quantiles_4.0', \\\n",
    "            'prev-yr_renter-occupied-households_4quantiles_1.0', 'prev-yr_renter-occupied-households_4quantiles_2.0', \\\n",
    "            'prev-yr_renter-occupied-households_4quantiles_3.0', 'prev-yr_renter-occupied-households_4quantiles_4.0', \\\n",
    "            'prev-yr_pct-renter-occupied_4quantiles_1.0', 'prev-yr_pct-renter-occupied_4quantiles_2.0', \\\n",
    "            'prev-yr_pct-renter-occupied_4quantiles_3.0', 'prev-yr_pct-renter-occupied_4quantiles_4.0', \\\n",
    "            'prev-yr_median-gross-rent_4quantiles_1.0', 'prev-yr_median-gross-rent_4quantiles_2.0', \\\n",
    "            'prev-yr_median-gross-rent_4quantiles_3.0', 'prev-yr_median-gross-rent_4quantiles_4.0', \\\n",
    "            'prev-yr_median-gross-rent_4quantiles_nan', 'prev-yr_median-household-income_4quantiles_1.0', \\\n",
    "            'prev-yr_median-household-income_4quantiles_2.0', 'prev-yr_median-household-income_4quantiles_3.0', \\\n",
    "            'prev-yr_median-household-income_4quantiles_4.0', 'prev-yr_median-household-income_4quantiles_nan', \\\n",
    "            'prev-yr_median-property-value_4quantiles_1.0', 'prev-yr_median-property-value_4quantiles_2.0', \\\n",
    "            'prev-yr_median-property-value_4quantiles_3.0', 'prev-yr_median-property-value_4quantiles_4.0', \\\n",
    "            'prev-yr_median-property-value_4quantiles_nan', 'prev-yr_rent-burden_4quantiles_1.0', \\\n",
    "            'prev-yr_rent-burden_4quantiles_2.0', 'prev-yr_rent-burden_4quantiles_3.0', 'prev-yr_rent-burden_4quantiles_4.0', \\\n",
    "            'prev-yr_rent-burden_4quantiles_nan', 'prev-yr_pct-white_4quantiles_1.0', 'prev-yr_pct-white_4quantiles_2.0', \\\n",
    "            'prev-yr_pct-white_4quantiles_3.0', 'prev-yr_pct-white_4quantiles_4.0', 'prev-yr_pct-af-am_4quantiles_1.0', \\\n",
    "            'prev-yr_pct-af-am_4quantiles_2.0', 'prev-yr_pct-af-am_4quantiles_3.0', 'prev-yr_pct-af-am_4quantiles_4.0', \\\n",
    "            'prev-yr_pct-hispanic_4quantiles_1.0', 'prev-yr_pct-hispanic_4quantiles_2.0', 'prev-yr_pct-hispanic_4quantiles_3.0', \\\n",
    "            'prev-yr_pct-hispanic_4quantiles_4.0', 'prev-yr_pct-am-ind_4quantiles_1.0', 'prev-yr_pct-am-ind_4quantiles_2.0', \\\n",
    "            'prev-yr_pct-am-ind_4quantiles_3.0', 'prev-yr_pct-am-ind_4quantiles_4.0', 'prev-yr_pct-asian_4quantiles_1.0', \\\n",
    "            'prev-yr_pct-asian_4quantiles_2.0', 'prev-yr_pct-asian_4quantiles_3.0', 'prev-yr_pct-asian_4quantiles_4.0', \\\n",
    "            'prev-yr_pct-nh-pi_4quantiles_1.0', 'prev-yr_pct-nh-pi_4quantiles_2.0', 'prev-yr_pct-nh-pi_4quantiles_3.0', \\\n",
    "            'prev-yr_pct-nh-pi_4quantiles_4.0', 'prev-yr_pct-multiple_4quantiles_1.0', 'prev-yr_pct-multiple_4quantiles_2.0', \\\n",
    "            'prev-yr_pct-multiple_4quantiles_3.0', 'prev-yr_pct-multiple_4quantiles_4.0', 'prev-yr_pct-other_4quantiles_1.0', \\\n",
    "            'prev-yr_pct-other_4quantiles_2.0', 'prev-yr_pct-other_4quantiles_3.0', 'prev-yr_pct-other_4quantiles_4.0', \\\n",
    "            'prev-yr_eviction-filings_4quantiles_1.0', 'prev-yr_eviction-filings_4quantiles_2.0', \\\n",
    "            'prev-yr_eviction-filings_4quantiles_3.0', 'prev-yr_eviction-filings_4quantiles_4.0', \\\n",
    "            'prev-yr_eviction-filing-rate_4quantiles_1.0', 'prev-yr_eviction-filing-rate_4quantiles_2.0', \\\n",
    "            'prev-yr_eviction-filing-rate_4quantiles_3.0', 'prev-yr_eviction-filing-rate_4quantiles_4.0', \\\n",
    "            'prev-yr_evictions_4quantiles_1.0', 'prev-yr_evictions_4quantiles_2.0', \\\n",
    "            'prev-yr_evictions_4quantiles_3.0', 'prev-yr_evictions_4quantiles_4.0', \\\n",
    "            'prev-yr_eviction-rate_4quantiles_1.0', 'prev-yr_eviction-rate_4quantiles_2.0', \\\n",
    "            'prev-yr_eviction-rate_4quantiles_3.0', 'prev-yr_eviction-rate_4quantiles_4.0', \\\n",
    "            'prev-yr_evictions-effectiveness_4quantiles_1.0', 'prev-yr_evictions-effectiveness_4quantiles_2.0', \\\n",
    "            'prev-yr_evictions-effectiveness_4quantiles_3.0', 'prev-yr_evictions-effectiveness_4quantiles_4.0', \\\n",
    "            'total_for_public_assistance_income_4quantiles_1.0', \\\n",
    "            'total_for_public_assistance_income_4quantiles_2.0', \\\n",
    "            'total_for_public_assistance_income_4quantiles_3.0', \\\n",
    "            'total_for_public_assistance_income_4quantiles_4.0', \\\n",
    "            'with_public_assistance_income_4quantiles_1.0', 'with_public_assistance_income_4quantiles_2.0', \\\n",
    "            'with_public_assistance_income_4quantiles_3.0', 'with_public_assistance_income_4quantiles_4.0', \\\n",
    "            'estimate_total_in_labor_force_4quantiles_1.0', 'estimate_total_in_labor_force_4quantiles_2.0', \\\n",
    "            'estimate_total_in_labor_force_4quantiles_3.0', 'estimate_total_in_labor_force_4quantiles_4.0', \\\n",
    "            'estimate_civilian_unemployed_4quantiles_1.0', 'estimate_civilian_unemployed_4quantiles_2.0', \\\n",
    "            'estimate_civilian_unemployed_4quantiles_3.0', 'estimate_civilian_unemployed_4quantiles_4.0', \\\n",
    "            'total_for_householder_tenure_4quantiles_1.0', 'total_for_householder_tenure_4quantiles_2.0', \\\n",
    "            'total_for_householder_tenure_4quantiles_3.0', 'total_for_householder_tenure_4quantiles_4.0', \\\n",
    "            'renter_occupied_4quantiles_1.0', 'renter_occupied_4quantiles_2.0', \\\n",
    "            'renter_occupied_4quantiles_3.0', 'renter_occupied_4quantiles_4.0', \\\n",
    "            'renter_moved_2015/2010_later_4quantiles_1.0', 'renter_moved_2015/2010_later_4quantiles_2.0', \\\n",
    "            'renter_moved_2015/2010_later_4quantiles_3.0', 'renter_moved_2015/2010_later_4quantiles_4.0', \\\n",
    "            'renter_moved_2010-2014/2000-2009_4quantiles_1.0', 'renter_moved_2010-2014/2000-2009_4quantiles_2.0', \\\n",
    "            'renter_moved_2010-2014/2000-2009_4quantiles_3.0', 'renter_moved_2010-2014/2000-2009_4quantiles_4.0', \\\n",
    "            'renter_moved_2000-2009/1990-1999_4quantiles_1.0', 'renter_moved_2000-2009/1990-1999_4quantiles_2.0', \\\n",
    "            'renter_moved_2000-2009/1990-1999_4quantiles_3.0', 'renter_moved_2000-2009/1990-1999_4quantiles_4.0', \\\n",
    "            'renter_moved_1990-1999/1980-1989_4quantiles_1.0', 'renter_moved_1990-1999/1980-1989_4quantiles_2.0', \\\n",
    "            'renter_moved_1990-1999/1980-1989_4quantiles_3.0', 'renter_moved_1990-1999/1980-1989_4quantiles_4.0', \\\n",
    "            'renter_moved_1980-1989/1970-1979_4quantiles_1.0', 'renter_moved_1980-1989/1970-1979_4quantiles_2.0', \\\n",
    "            'renter_moved_1980-1989/1970-1979_4quantiles_3.0', 'renter_moved_1980-1989/1970-1979_4quantiles_4.0', \\\n",
    "            'renter_moved_1979/1969_earlier_4quantiles_1.0', 'renter_moved_1979/1969_earlier_4quantiles_2.0', \\\n",
    "            'renter_moved_1979/1969_earlier_4quantiles_3.0', 'renter_moved_1979/1969_earlier_4quantiles_4.0']"
   ]
  },
  {
   "cell_type": "markdown",
   "metadata": {},
   "source": [
    "Defining the label:"
   ]
  },
  {
   "cell_type": "code",
   "execution_count": 5,
   "metadata": {},
   "outputs": [],
   "source": [
    "label = 'upper10th_by_year'"
   ]
  },
  {
   "cell_type": "markdown",
   "metadata": {},
   "source": [
    "Setting the parameters for the evaluation table:"
   ]
  },
  {
   "cell_type": "code",
   "execution_count": 6,
   "metadata": {},
   "outputs": [],
   "source": [
    "fractions = [0.01, 0.02, 0.05, 0.1, 0.2, 0.3, 0.5]\n",
    "classifiers = pipeline.CLASSIFIERS\n",
    "parameters = pipeline.PARAMETERS\n",
    "metric = 'precision_at_0.1'"
   ]
  },
  {
   "cell_type": "markdown",
   "metadata": {},
   "source": [
    "Creating the evaluation table:"
   ]
  },
  {
   "cell_type": "code",
   "execution_count": 7,
   "metadata": {
    "scrolled": true
   },
   "outputs": [
    {
     "name": "stdout",
     "output_type": "stream",
     "text": [
      "Dataset: train 2014 / test 2015\n",
      "Predicting every data point's value to be 1, the accuracy is 10.0 %\n",
      "\n",
      "Running model 1 out of 2310\n",
      "Progress: 0.0 %\n",
      "Classifier: SVC\n",
      "\n",
      "Running model 2 out of 2310\n",
      "Progress: 0.1 %\n",
      "Classifier: SVC\n",
      "\n",
      "Running model 3 out of 2310\n",
      "Progress: 0.1 %\n",
      "Classifier: SVC\n",
      "\n",
      "Running model 4 out of 2310\n",
      "Progress: 0.2 %\n",
      "Classifier: SVC\n",
      "\n",
      "Running model 5 out of 2310\n",
      "Progress: 0.2 %\n",
      "Classifier: SVC\n",
      "\n",
      "Running model 6 out of 2310\n",
      "Progress: 0.3 %\n",
      "Classifier: SVC\n",
      "\n",
      "Running model 7 out of 2310\n",
      "Progress: 0.3 %\n",
      "Classifier: SVC\n",
      "\n",
      "Running model 8 out of 2310\n",
      "Progress: 0.3 %\n",
      "Classifier: SVC\n",
      "\n",
      "Running model 9 out of 2310\n",
      "Progress: 0.4 %\n",
      "Classifier: SVC\n",
      "\n",
      "Running model 10 out of 2310\n",
      "Progress: 0.4 %\n",
      "Classifier: SVC\n",
      "\n",
      "Running model 11 out of 2310\n",
      "Progress: 0.5 %\n",
      "Classifier: Random forest\n",
      "\n",
      "Running model 12 out of 2310\n",
      "Progress: 0.5 %\n",
      "Classifier: Random forest\n",
      "\n",
      "Running model 13 out of 2310\n",
      "Progress: 0.6 %\n",
      "Classifier: Random forest\n",
      "\n",
      "Running model 14 out of 2310\n",
      "Progress: 0.6 %\n",
      "Classifier: Random forest\n",
      "\n",
      "Running model 15 out of 2310\n",
      "Progress: 0.6 %\n",
      "Classifier: Random forest\n",
      "\n",
      "Running model 16 out of 2310\n",
      "Progress: 0.7 %\n",
      "Classifier: Random forest\n",
      "\n",
      "Running model 17 out of 2310\n",
      "Progress: 0.7 %\n",
      "Classifier: Random forest\n",
      "\n",
      "Running model 18 out of 2310\n",
      "Progress: 0.8 %\n",
      "Classifier: Random forest\n",
      "\n",
      "Running model 19 out of 2310\n",
      "Progress: 0.8 %\n",
      "Classifier: Random forest\n",
      "\n",
      "Running model 20 out of 2310\n",
      "Progress: 0.9 %\n",
      "Classifier: Random forest\n",
      "\n",
      "Running model 21 out of 2310\n",
      "Progress: 0.9 %\n",
      "Classifier: Random forest\n",
      "\n",
      "Running model 22 out of 2310\n",
      "Progress: 1.0 %\n",
      "Classifier: Random forest\n",
      "\n",
      "Running model 23 out of 2310\n",
      "Progress: 1.0 %\n",
      "Classifier: Random forest\n",
      "\n",
      "Running model 24 out of 2310\n",
      "Progress: 1.0 %\n",
      "Classifier: Random forest\n",
      "\n",
      "Running model 25 out of 2310\n",
      "Progress: 1.1 %\n",
      "Classifier: Random forest\n",
      "\n",
      "Running model 26 out of 2310\n",
      "Progress: 1.1 %\n",
      "Classifier: Random forest\n"
     ]
    },
    {
     "ename": "KeyboardInterrupt",
     "evalue": "",
     "output_type": "error",
     "traceback": [
      "\u001b[0;31m---------------------------------------------------------------------------\u001b[0m",
      "\u001b[0;31mKeyboardInterrupt\u001b[0m                         Traceback (most recent call last)",
      "\u001b[0;32m<ipython-input-7-b76b4eed156f>\u001b[0m in \u001b[0;36m<module>\u001b[0;34m\u001b[0m\n\u001b[0;32m----> 1\u001b[0;31m \u001b[0mevaluation_table\u001b[0m \u001b[0;34m=\u001b[0m \u001b[0mpipeline\u001b[0m\u001b[0;34m.\u001b[0m\u001b[0mevaluation_table\u001b[0m\u001b[0;34m(\u001b[0m\u001b[0mclassifiers\u001b[0m\u001b[0;34m,\u001b[0m \u001b[0mparameters\u001b[0m\u001b[0;34m,\u001b[0m \u001b[0mdic_sets\u001b[0m\u001b[0;34m,\u001b[0m \u001b[0mfractions\u001b[0m\u001b[0;34m,\u001b[0m \u001b[0mfeatures\u001b[0m\u001b[0;34m,\u001b[0m \u001b[0mlabel\u001b[0m\u001b[0;34m,\u001b[0m \u001b[0mmetric\u001b[0m\u001b[0;34m)\u001b[0m\u001b[0;34m\u001b[0m\u001b[0m\n\u001b[0m",
      "\u001b[0;32m~/ml-eviction-chicago/scripts/pipeline.py\u001b[0m in \u001b[0;36mevaluation_table\u001b[0;34m(classifiers, parameters, datasets, fractions, features, label, preferred_metric)\u001b[0m\n\u001b[1;32m    719\u001b[0m                                      test_X, test_y) for fraction in fractions]\n\u001b[1;32m    720\u001b[0m                 recall_metrics = [recall(model, fraction, test_X, test_y) \\\n\u001b[0;32m--> 721\u001b[0;31m                                   for fraction in fractions]\n\u001b[0m\u001b[1;32m    722\u001b[0m \u001b[0;34m\u001b[0m\u001b[0m\n\u001b[1;32m    723\u001b[0m                 \u001b[0;31m# Appending results\u001b[0m\u001b[0;34m\u001b[0m\u001b[0;34m\u001b[0m\u001b[0m\n",
      "\u001b[0;32m~/ml-eviction-chicago/scripts/pipeline.py\u001b[0m in \u001b[0;36m<listcomp>\u001b[0;34m(.0)\u001b[0m\n\u001b[1;32m    719\u001b[0m                                      test_X, test_y) for fraction in fractions]\n\u001b[1;32m    720\u001b[0m                 recall_metrics = [recall(model, fraction, test_X, test_y) \\\n\u001b[0;32m--> 721\u001b[0;31m                                   for fraction in fractions]\n\u001b[0m\u001b[1;32m    722\u001b[0m \u001b[0;34m\u001b[0m\u001b[0m\n\u001b[1;32m    723\u001b[0m                 \u001b[0;31m# Appending results\u001b[0m\u001b[0;34m\u001b[0m\u001b[0;34m\u001b[0m\u001b[0m\n",
      "\u001b[0;32m~/ml-eviction-chicago/scripts/pipeline.py\u001b[0m in \u001b[0;36mrecall\u001b[0;34m(classifier, threshold, X_test, y_test)\u001b[0m\n\u001b[1;32m    559\u001b[0m \u001b[0;34m\u001b[0m\u001b[0m\n\u001b[1;32m    560\u001b[0m     \u001b[0mdf\u001b[0m \u001b[0;34m=\u001b[0m \u001b[0mpd\u001b[0m\u001b[0;34m.\u001b[0m\u001b[0mDataFrame\u001b[0m\u001b[0;34m(\u001b[0m\u001b[0;34m)\u001b[0m\u001b[0;34m\u001b[0m\u001b[0m\n\u001b[0;32m--> 561\u001b[0;31m     \u001b[0mdf\u001b[0m\u001b[0;34m[\u001b[0m\u001b[0;34m'pred_scores'\u001b[0m\u001b[0;34m]\u001b[0m \u001b[0;34m=\u001b[0m \u001b[0mget_predictions\u001b[0m\u001b[0;34m(\u001b[0m\u001b[0mclassifier\u001b[0m\u001b[0;34m,\u001b[0m \u001b[0mX_test\u001b[0m\u001b[0;34m)\u001b[0m\u001b[0;34m\u001b[0m\u001b[0m\n\u001b[0m\u001b[1;32m    562\u001b[0m     \u001b[0mdf\u001b[0m\u001b[0;34m[\u001b[0m\u001b[0;34m'y_test'\u001b[0m\u001b[0;34m]\u001b[0m \u001b[0;34m=\u001b[0m \u001b[0my_test\u001b[0m\u001b[0;34m.\u001b[0m\u001b[0mreset_index\u001b[0m\u001b[0;34m(\u001b[0m\u001b[0mdrop\u001b[0m\u001b[0;34m=\u001b[0m\u001b[0;32mTrue\u001b[0m\u001b[0;34m)\u001b[0m\u001b[0;34m\u001b[0m\u001b[0m\n\u001b[1;32m    563\u001b[0m     \u001b[0mdf\u001b[0m\u001b[0;34m.\u001b[0m\u001b[0msort_values\u001b[0m\u001b[0;34m(\u001b[0m\u001b[0mby\u001b[0m\u001b[0;34m=\u001b[0m\u001b[0;34m[\u001b[0m\u001b[0;34m'pred_scores'\u001b[0m\u001b[0;34m]\u001b[0m\u001b[0;34m,\u001b[0m \u001b[0mascending\u001b[0m\u001b[0;34m=\u001b[0m\u001b[0;32mFalse\u001b[0m\u001b[0;34m,\u001b[0m \u001b[0minplace\u001b[0m\u001b[0;34m=\u001b[0m\u001b[0;32mTrue\u001b[0m\u001b[0;34m)\u001b[0m\u001b[0;34m\u001b[0m\u001b[0m\n",
      "\u001b[0;32m~/ml-eviction-chicago/scripts/pipeline.py\u001b[0m in \u001b[0;36mget_predictions\u001b[0;34m(classifier, X_test)\u001b[0m\n\u001b[1;32m    469\u001b[0m \u001b[0;34m\u001b[0m\u001b[0m\n\u001b[1;32m    470\u001b[0m     \u001b[0;32mif\u001b[0m \u001b[0mhasattr\u001b[0m\u001b[0;34m(\u001b[0m\u001b[0mclassifier\u001b[0m\u001b[0;34m,\u001b[0m \u001b[0;34m'predict_proba'\u001b[0m\u001b[0;34m)\u001b[0m\u001b[0;34m:\u001b[0m\u001b[0;34m\u001b[0m\u001b[0m\n\u001b[0;32m--> 471\u001b[0;31m         \u001b[0mpred_scores\u001b[0m \u001b[0;34m=\u001b[0m \u001b[0mclassifier\u001b[0m\u001b[0;34m.\u001b[0m\u001b[0mpredict_proba\u001b[0m\u001b[0;34m(\u001b[0m\u001b[0mX_test\u001b[0m\u001b[0;34m)\u001b[0m\u001b[0;34m[\u001b[0m\u001b[0;34m:\u001b[0m\u001b[0;34m,\u001b[0m\u001b[0;36m1\u001b[0m\u001b[0;34m]\u001b[0m\u001b[0;34m\u001b[0m\u001b[0m\n\u001b[0m\u001b[1;32m    472\u001b[0m     \u001b[0;32melse\u001b[0m\u001b[0;34m:\u001b[0m\u001b[0;34m\u001b[0m\u001b[0m\n\u001b[1;32m    473\u001b[0m         \u001b[0mpred_scores\u001b[0m \u001b[0;34m=\u001b[0m \u001b[0mclassifier\u001b[0m\u001b[0;34m.\u001b[0m\u001b[0mdecision_function\u001b[0m\u001b[0;34m(\u001b[0m\u001b[0mX_test\u001b[0m\u001b[0;34m)\u001b[0m\u001b[0;34m\u001b[0m\u001b[0m\n",
      "\u001b[0;32m/usr/local/lib/python3.5/dist-packages/sklearn/ensemble/forest.py\u001b[0m in \u001b[0;36mpredict_proba\u001b[0;34m(self, X)\u001b[0m\n\u001b[1;32m    587\u001b[0m         Parallel(n_jobs=n_jobs, verbose=self.verbose, backend=\"threading\")(\n\u001b[1;32m    588\u001b[0m             \u001b[0mdelayed\u001b[0m\u001b[0;34m(\u001b[0m\u001b[0maccumulate_prediction\u001b[0m\u001b[0;34m)\u001b[0m\u001b[0;34m(\u001b[0m\u001b[0me\u001b[0m\u001b[0;34m.\u001b[0m\u001b[0mpredict_proba\u001b[0m\u001b[0;34m,\u001b[0m \u001b[0mX\u001b[0m\u001b[0;34m,\u001b[0m \u001b[0mall_proba\u001b[0m\u001b[0;34m,\u001b[0m \u001b[0mlock\u001b[0m\u001b[0;34m)\u001b[0m\u001b[0;34m\u001b[0m\u001b[0m\n\u001b[0;32m--> 589\u001b[0;31m             for e in self.estimators_)\n\u001b[0m\u001b[1;32m    590\u001b[0m \u001b[0;34m\u001b[0m\u001b[0m\n\u001b[1;32m    591\u001b[0m         \u001b[0;32mfor\u001b[0m \u001b[0mproba\u001b[0m \u001b[0;32min\u001b[0m \u001b[0mall_proba\u001b[0m\u001b[0;34m:\u001b[0m\u001b[0;34m\u001b[0m\u001b[0m\n",
      "\u001b[0;32m/usr/local/lib/python3.5/dist-packages/sklearn/externals/joblib/parallel.py\u001b[0m in \u001b[0;36m__call__\u001b[0;34m(self, iterable)\u001b[0m\n\u001b[1;32m    795\u001b[0m         \u001b[0;32mfinally\u001b[0m\u001b[0;34m:\u001b[0m\u001b[0;34m\u001b[0m\u001b[0m\n\u001b[1;32m    796\u001b[0m             \u001b[0;32mif\u001b[0m \u001b[0;32mnot\u001b[0m \u001b[0mself\u001b[0m\u001b[0;34m.\u001b[0m\u001b[0m_managed_backend\u001b[0m\u001b[0;34m:\u001b[0m\u001b[0;34m\u001b[0m\u001b[0m\n\u001b[0;32m--> 797\u001b[0;31m                 \u001b[0mself\u001b[0m\u001b[0;34m.\u001b[0m\u001b[0m_terminate_backend\u001b[0m\u001b[0;34m(\u001b[0m\u001b[0;34m)\u001b[0m\u001b[0;34m\u001b[0m\u001b[0m\n\u001b[0m\u001b[1;32m    798\u001b[0m             \u001b[0mself\u001b[0m\u001b[0;34m.\u001b[0m\u001b[0m_jobs\u001b[0m \u001b[0;34m=\u001b[0m \u001b[0mlist\u001b[0m\u001b[0;34m(\u001b[0m\u001b[0;34m)\u001b[0m\u001b[0;34m\u001b[0m\u001b[0m\n\u001b[1;32m    799\u001b[0m         \u001b[0moutput\u001b[0m \u001b[0;34m=\u001b[0m \u001b[0mself\u001b[0m\u001b[0;34m.\u001b[0m\u001b[0m_output\u001b[0m\u001b[0;34m\u001b[0m\u001b[0m\n",
      "\u001b[0;32m/usr/local/lib/python3.5/dist-packages/sklearn/externals/joblib/parallel.py\u001b[0m in \u001b[0;36m_terminate_backend\u001b[0;34m(self)\u001b[0m\n\u001b[1;32m    568\u001b[0m     \u001b[0;32mdef\u001b[0m \u001b[0m_terminate_backend\u001b[0m\u001b[0;34m(\u001b[0m\u001b[0mself\u001b[0m\u001b[0;34m)\u001b[0m\u001b[0;34m:\u001b[0m\u001b[0;34m\u001b[0m\u001b[0m\n\u001b[1;32m    569\u001b[0m         \u001b[0;32mif\u001b[0m \u001b[0mself\u001b[0m\u001b[0;34m.\u001b[0m\u001b[0m_backend\u001b[0m \u001b[0;32mis\u001b[0m \u001b[0;32mnot\u001b[0m \u001b[0;32mNone\u001b[0m\u001b[0;34m:\u001b[0m\u001b[0;34m\u001b[0m\u001b[0m\n\u001b[0;32m--> 570\u001b[0;31m             \u001b[0mself\u001b[0m\u001b[0;34m.\u001b[0m\u001b[0m_backend\u001b[0m\u001b[0;34m.\u001b[0m\u001b[0mterminate\u001b[0m\u001b[0;34m(\u001b[0m\u001b[0;34m)\u001b[0m\u001b[0;34m\u001b[0m\u001b[0m\n\u001b[0m\u001b[1;32m    571\u001b[0m \u001b[0;34m\u001b[0m\u001b[0m\n\u001b[1;32m    572\u001b[0m     \u001b[0;32mdef\u001b[0m \u001b[0m_dispatch\u001b[0m\u001b[0;34m(\u001b[0m\u001b[0mself\u001b[0m\u001b[0;34m,\u001b[0m \u001b[0mbatch\u001b[0m\u001b[0;34m)\u001b[0m\u001b[0;34m:\u001b[0m\u001b[0;34m\u001b[0m\u001b[0m\n",
      "\u001b[0;32m/usr/local/lib/python3.5/dist-packages/sklearn/externals/joblib/_parallel_backends.py\u001b[0m in \u001b[0;36mterminate\u001b[0;34m(self)\u001b[0m\n\u001b[1;32m    134\u001b[0m         \u001b[0;32mif\u001b[0m \u001b[0mself\u001b[0m\u001b[0;34m.\u001b[0m\u001b[0m_pool\u001b[0m \u001b[0;32mis\u001b[0m \u001b[0;32mnot\u001b[0m \u001b[0;32mNone\u001b[0m\u001b[0;34m:\u001b[0m\u001b[0;34m\u001b[0m\u001b[0m\n\u001b[1;32m    135\u001b[0m             \u001b[0mself\u001b[0m\u001b[0;34m.\u001b[0m\u001b[0m_pool\u001b[0m\u001b[0;34m.\u001b[0m\u001b[0mclose\u001b[0m\u001b[0;34m(\u001b[0m\u001b[0;34m)\u001b[0m\u001b[0;34m\u001b[0m\u001b[0m\n\u001b[0;32m--> 136\u001b[0;31m             \u001b[0mself\u001b[0m\u001b[0;34m.\u001b[0m\u001b[0m_pool\u001b[0m\u001b[0;34m.\u001b[0m\u001b[0mterminate\u001b[0m\u001b[0;34m(\u001b[0m\u001b[0;34m)\u001b[0m  \u001b[0;31m# terminate does a join()\u001b[0m\u001b[0;34m\u001b[0m\u001b[0m\n\u001b[0m\u001b[1;32m    137\u001b[0m             \u001b[0mself\u001b[0m\u001b[0;34m.\u001b[0m\u001b[0m_pool\u001b[0m \u001b[0;34m=\u001b[0m \u001b[0;32mNone\u001b[0m\u001b[0;34m\u001b[0m\u001b[0m\n\u001b[1;32m    138\u001b[0m \u001b[0;34m\u001b[0m\u001b[0m\n",
      "\u001b[0;32m/usr/lib/python3.5/multiprocessing/pool.py\u001b[0m in \u001b[0;36mterminate\u001b[0;34m(self)\u001b[0m\n\u001b[1;32m    503\u001b[0m         \u001b[0mself\u001b[0m\u001b[0;34m.\u001b[0m\u001b[0m_state\u001b[0m \u001b[0;34m=\u001b[0m \u001b[0mTERMINATE\u001b[0m\u001b[0;34m\u001b[0m\u001b[0m\n\u001b[1;32m    504\u001b[0m         \u001b[0mself\u001b[0m\u001b[0;34m.\u001b[0m\u001b[0m_worker_handler\u001b[0m\u001b[0;34m.\u001b[0m\u001b[0m_state\u001b[0m \u001b[0;34m=\u001b[0m \u001b[0mTERMINATE\u001b[0m\u001b[0;34m\u001b[0m\u001b[0m\n\u001b[0;32m--> 505\u001b[0;31m         \u001b[0mself\u001b[0m\u001b[0;34m.\u001b[0m\u001b[0m_terminate\u001b[0m\u001b[0;34m(\u001b[0m\u001b[0;34m)\u001b[0m\u001b[0;34m\u001b[0m\u001b[0m\n\u001b[0m\u001b[1;32m    506\u001b[0m \u001b[0;34m\u001b[0m\u001b[0m\n\u001b[1;32m    507\u001b[0m     \u001b[0;32mdef\u001b[0m \u001b[0mjoin\u001b[0m\u001b[0;34m(\u001b[0m\u001b[0mself\u001b[0m\u001b[0;34m)\u001b[0m\u001b[0;34m:\u001b[0m\u001b[0;34m\u001b[0m\u001b[0m\n",
      "\u001b[0;32m/usr/lib/python3.5/multiprocessing/util.py\u001b[0m in \u001b[0;36m__call__\u001b[0;34m(self, wr, _finalizer_registry, sub_debug, getpid)\u001b[0m\n\u001b[1;32m    184\u001b[0m                 sub_debug('finalizer calling %s with args %s and kwargs %s',\n\u001b[1;32m    185\u001b[0m                           self._callback, self._args, self._kwargs)\n\u001b[0;32m--> 186\u001b[0;31m                 \u001b[0mres\u001b[0m \u001b[0;34m=\u001b[0m \u001b[0mself\u001b[0m\u001b[0;34m.\u001b[0m\u001b[0m_callback\u001b[0m\u001b[0;34m(\u001b[0m\u001b[0;34m*\u001b[0m\u001b[0mself\u001b[0m\u001b[0;34m.\u001b[0m\u001b[0m_args\u001b[0m\u001b[0;34m,\u001b[0m \u001b[0;34m**\u001b[0m\u001b[0mself\u001b[0m\u001b[0;34m.\u001b[0m\u001b[0m_kwargs\u001b[0m\u001b[0;34m)\u001b[0m\u001b[0;34m\u001b[0m\u001b[0m\n\u001b[0m\u001b[1;32m    187\u001b[0m             \u001b[0mself\u001b[0m\u001b[0;34m.\u001b[0m\u001b[0m_weakref\u001b[0m \u001b[0;34m=\u001b[0m \u001b[0mself\u001b[0m\u001b[0;34m.\u001b[0m\u001b[0m_callback\u001b[0m \u001b[0;34m=\u001b[0m \u001b[0mself\u001b[0m\u001b[0;34m.\u001b[0m\u001b[0m_args\u001b[0m \u001b[0;34m=\u001b[0m\u001b[0;31m \u001b[0m\u001b[0;31m\\\u001b[0m\u001b[0;34m\u001b[0m\u001b[0m\n\u001b[1;32m    188\u001b[0m                             \u001b[0mself\u001b[0m\u001b[0;34m.\u001b[0m\u001b[0m_kwargs\u001b[0m \u001b[0;34m=\u001b[0m \u001b[0mself\u001b[0m\u001b[0;34m.\u001b[0m\u001b[0m_key\u001b[0m \u001b[0;34m=\u001b[0m \u001b[0;32mNone\u001b[0m\u001b[0;34m\u001b[0m\u001b[0m\n",
      "\u001b[0;32m/usr/lib/python3.5/multiprocessing/pool.py\u001b[0m in \u001b[0;36m_terminate_pool\u001b[0;34m(cls, taskqueue, inqueue, outqueue, pool, worker_handler, task_handler, result_handler, cache)\u001b[0m\n\u001b[1;32m    544\u001b[0m         \u001b[0mutil\u001b[0m\u001b[0;34m.\u001b[0m\u001b[0mdebug\u001b[0m\u001b[0;34m(\u001b[0m\u001b[0;34m'joining worker handler'\u001b[0m\u001b[0;34m)\u001b[0m\u001b[0;34m\u001b[0m\u001b[0m\n\u001b[1;32m    545\u001b[0m         \u001b[0;32mif\u001b[0m \u001b[0mthreading\u001b[0m\u001b[0;34m.\u001b[0m\u001b[0mcurrent_thread\u001b[0m\u001b[0;34m(\u001b[0m\u001b[0;34m)\u001b[0m \u001b[0;32mis\u001b[0m \u001b[0;32mnot\u001b[0m \u001b[0mworker_handler\u001b[0m\u001b[0;34m:\u001b[0m\u001b[0;34m\u001b[0m\u001b[0m\n\u001b[0;32m--> 546\u001b[0;31m             \u001b[0mworker_handler\u001b[0m\u001b[0;34m.\u001b[0m\u001b[0mjoin\u001b[0m\u001b[0;34m(\u001b[0m\u001b[0;34m)\u001b[0m\u001b[0;34m\u001b[0m\u001b[0m\n\u001b[0m\u001b[1;32m    547\u001b[0m \u001b[0;34m\u001b[0m\u001b[0m\n\u001b[1;32m    548\u001b[0m         \u001b[0;31m# Terminate workers which haven't already finished.\u001b[0m\u001b[0;34m\u001b[0m\u001b[0;34m\u001b[0m\u001b[0m\n",
      "\u001b[0;32m/usr/lib/python3.5/threading.py\u001b[0m in \u001b[0;36mjoin\u001b[0;34m(self, timeout)\u001b[0m\n\u001b[1;32m   1052\u001b[0m \u001b[0;34m\u001b[0m\u001b[0m\n\u001b[1;32m   1053\u001b[0m         \u001b[0;32mif\u001b[0m \u001b[0mtimeout\u001b[0m \u001b[0;32mis\u001b[0m \u001b[0;32mNone\u001b[0m\u001b[0;34m:\u001b[0m\u001b[0;34m\u001b[0m\u001b[0m\n\u001b[0;32m-> 1054\u001b[0;31m             \u001b[0mself\u001b[0m\u001b[0;34m.\u001b[0m\u001b[0m_wait_for_tstate_lock\u001b[0m\u001b[0;34m(\u001b[0m\u001b[0;34m)\u001b[0m\u001b[0;34m\u001b[0m\u001b[0m\n\u001b[0m\u001b[1;32m   1055\u001b[0m         \u001b[0;32melse\u001b[0m\u001b[0;34m:\u001b[0m\u001b[0;34m\u001b[0m\u001b[0m\n\u001b[1;32m   1056\u001b[0m             \u001b[0;31m# the behavior of a negative timeout isn't documented, but\u001b[0m\u001b[0;34m\u001b[0m\u001b[0;34m\u001b[0m\u001b[0m\n",
      "\u001b[0;32m/usr/lib/python3.5/threading.py\u001b[0m in \u001b[0;36m_wait_for_tstate_lock\u001b[0;34m(self, block, timeout)\u001b[0m\n\u001b[1;32m   1068\u001b[0m         \u001b[0;32mif\u001b[0m \u001b[0mlock\u001b[0m \u001b[0;32mis\u001b[0m \u001b[0;32mNone\u001b[0m\u001b[0;34m:\u001b[0m  \u001b[0;31m# already determined that the C code is done\u001b[0m\u001b[0;34m\u001b[0m\u001b[0m\n\u001b[1;32m   1069\u001b[0m             \u001b[0;32massert\u001b[0m \u001b[0mself\u001b[0m\u001b[0;34m.\u001b[0m\u001b[0m_is_stopped\u001b[0m\u001b[0;34m\u001b[0m\u001b[0m\n\u001b[0;32m-> 1070\u001b[0;31m         \u001b[0;32melif\u001b[0m \u001b[0mlock\u001b[0m\u001b[0;34m.\u001b[0m\u001b[0macquire\u001b[0m\u001b[0;34m(\u001b[0m\u001b[0mblock\u001b[0m\u001b[0;34m,\u001b[0m \u001b[0mtimeout\u001b[0m\u001b[0;34m)\u001b[0m\u001b[0;34m:\u001b[0m\u001b[0;34m\u001b[0m\u001b[0m\n\u001b[0m\u001b[1;32m   1071\u001b[0m             \u001b[0mlock\u001b[0m\u001b[0;34m.\u001b[0m\u001b[0mrelease\u001b[0m\u001b[0;34m(\u001b[0m\u001b[0;34m)\u001b[0m\u001b[0;34m\u001b[0m\u001b[0m\n\u001b[1;32m   1072\u001b[0m             \u001b[0mself\u001b[0m\u001b[0;34m.\u001b[0m\u001b[0m_stop\u001b[0m\u001b[0;34m(\u001b[0m\u001b[0;34m)\u001b[0m\u001b[0;34m\u001b[0m\u001b[0m\n",
      "\u001b[0;31mKeyboardInterrupt\u001b[0m: "
     ]
    }
   ],
   "source": [
    "evaluation_table = pipeline.evaluation_table(classifiers, parameters, dic_sets, fractions, features, label, metric)"
   ]
  },
  {
   "cell_type": "markdown",
   "metadata": {},
   "source": [
    "# Results analysis"
   ]
  },
  {
   "cell_type": "markdown",
   "metadata": {},
   "source": [
    "Creating an object with the best model and best metric:"
   ]
  },
  {
   "cell_type": "code",
   "execution_count": null,
   "metadata": {
    "scrolled": true
   },
   "outputs": [],
   "source": [
    "model, metric = pipeline.model_best_average(evaluation_table, metric)"
   ]
  },
  {
   "cell_type": "markdown",
   "metadata": {},
   "source": [
    "Generating parameters for the final outcome of our analysis:"
   ]
  },
  {
   "cell_type": "code",
   "execution_count": 8,
   "metadata": {},
   "outputs": [],
   "source": [
    "year_train = 2016\n",
    "year_predict = 2017\n",
    "train_X_final = df[df['year']==year_train][features]\n",
    "train_y_final = df[df['year']==year_train][label]"
   ]
  },
  {
   "cell_type": "markdown",
   "metadata": {},
   "source": [
    "Generating the final prediction dataset:"
   ]
  },
  {
   "cell_type": "code",
   "execution_count": 9,
   "metadata": {},
   "outputs": [],
   "source": [
    "el_features = ['population_4quantiles_1.0', 'population_4quantiles_2.0', 'population_4quantiles_3.0', \\\n",
    "            'population_4quantiles_4.0', 'poverty-rate_4quantiles_1.0', 'poverty-rate_4quantiles_2.0', \\\n",
    "            'poverty-rate_4quantiles_3.0', 'poverty-rate_4quantiles_4.0', \\\n",
    "            'renter-occupied-households_4quantiles_1.0', 'renter-occupied-households_4quantiles_2.0', \\\n",
    "            'renter-occupied-households_4quantiles_3.0', 'renter-occupied-households_4quantiles_4.0', \\\n",
    "            'pct-renter-occupied_4quantiles_1.0', 'pct-renter-occupied_4quantiles_2.0', \\\n",
    "            'pct-renter-occupied_4quantiles_3.0', 'pct-renter-occupied_4quantiles_4.0', \\\n",
    "            'median-gross-rent_4quantiles_1.0', 'median-gross-rent_4quantiles_2.0', \\\n",
    "            'median-gross-rent_4quantiles_3.0', 'median-gross-rent_4quantiles_4.0', \\\n",
    "            'median-gross-rent_4quantiles_nan', 'median-household-income_4quantiles_1.0', \\\n",
    "            'median-household-income_4quantiles_2.0', 'median-household-income_4quantiles_3.0', \\\n",
    "            'median-household-income_4quantiles_4.0', 'median-household-income_4quantiles_nan', \\\n",
    "            'median-property-value_4quantiles_1.0', 'median-property-value_4quantiles_2.0', \\\n",
    "            'median-property-value_4quantiles_3.0', 'median-property-value_4quantiles_4.0', \\\n",
    "            'median-property-value_4quantiles_nan', 'rent-burden_4quantiles_1.0', \\\n",
    "            'rent-burden_4quantiles_2.0', 'rent-burden_4quantiles_3.0', 'rent-burden_4quantiles_4.0', \\\n",
    "            'rent-burden_4quantiles_nan', 'pct-white_4quantiles_1.0', 'pct-white_4quantiles_2.0', \\\n",
    "            'pct-white_4quantiles_3.0', 'pct-white_4quantiles_4.0', 'pct-af-am_4quantiles_1.0', \\\n",
    "            'pct-af-am_4quantiles_2.0', 'pct-af-am_4quantiles_3.0', 'pct-af-am_4quantiles_4.0', \\\n",
    "            'pct-hispanic_4quantiles_1.0', 'pct-hispanic_4quantiles_2.0', 'pct-hispanic_4quantiles_3.0', \\\n",
    "            'pct-hispanic_4quantiles_4.0', 'pct-am-ind_4quantiles_1.0', 'pct-am-ind_4quantiles_2.0', \\\n",
    "            'pct-am-ind_4quantiles_3.0', 'pct-am-ind_4quantiles_4.0', 'pct-asian_4quantiles_1.0', \\\n",
    "            'pct-asian_4quantiles_2.0', 'pct-asian_4quantiles_3.0', 'pct-asian_4quantiles_4.0', \\\n",
    "            'pct-nh-pi_4quantiles_1.0', 'pct-nh-pi_4quantiles_2.0', 'pct-nh-pi_4quantiles_3.0', \\\n",
    "            'pct-nh-pi_4quantiles_4.0', 'pct-multiple_4quantiles_1.0', 'pct-multiple_4quantiles_2.0', \\\n",
    "            'pct-multiple_4quantiles_3.0', 'pct-multiple_4quantiles_4.0', 'pct-other_4quantiles_1.0', \\\n",
    "            'pct-other_4quantiles_2.0', 'pct-other_4quantiles_3.0', 'pct-other_4quantiles_4.0', \\\n",
    "            'eviction-filings_4quantiles_1.0', 'eviction-filings_4quantiles_2.0', \\\n",
    "            'eviction-filings_4quantiles_3.0', 'eviction-filings_4quantiles_4.0', \\\n",
    "            'eviction-filing-rate_4quantiles_1.0', 'eviction-filing-rate_4quantiles_2.0', \\\n",
    "            'eviction-filing-rate_4quantiles_3.0', 'eviction-filing-rate_4quantiles_4.0', \\\n",
    "            'evictions_4quantiles_1.0', 'evictions_4quantiles_2.0', \\\n",
    "            'evictions_4quantiles_3.0', 'evictions_4quantiles_4.0', \\\n",
    "            'eviction-rate_4quantiles_1.0', 'eviction-rate_4quantiles_2.0', \\\n",
    "            'eviction-rate_4quantiles_3.0', 'eviction-rate_4quantiles_4.0', \\\n",
    "            'evictions-effectiveness_4quantiles_1.0', 'evictions-effectiveness_4quantiles_2.0', \\\n",
    "            'evictions-effectiveness_4quantiles_3.0', 'evictions-effectiveness_4quantiles_4.0']\n",
    "acs_features = ['total_for_public_assistance_income_4quantiles_1.0', \\\n",
    "            'total_for_public_assistance_income_4quantiles_2.0', \\\n",
    "            'total_for_public_assistance_income_4quantiles_3.0', \\\n",
    "            'total_for_public_assistance_income_4quantiles_4.0', \\\n",
    "            'with_public_assistance_income_4quantiles_1.0', 'with_public_assistance_income_4quantiles_2.0', \\\n",
    "            'with_public_assistance_income_4quantiles_3.0', 'with_public_assistance_income_4quantiles_4.0', \\\n",
    "            'estimate_total_in_labor_force_4quantiles_1.0', 'estimate_total_in_labor_force_4quantiles_2.0', \\\n",
    "            'estimate_total_in_labor_force_4quantiles_3.0', 'estimate_total_in_labor_force_4quantiles_4.0', \\\n",
    "            'estimate_civilian_unemployed_4quantiles_1.0', 'estimate_civilian_unemployed_4quantiles_2.0', \\\n",
    "            'estimate_civilian_unemployed_4quantiles_3.0', 'estimate_civilian_unemployed_4quantiles_4.0', \\\n",
    "            'total_for_householder_tenure_4quantiles_1.0', 'total_for_householder_tenure_4quantiles_2.0', \\\n",
    "            'total_for_householder_tenure_4quantiles_3.0', 'total_for_householder_tenure_4quantiles_4.0', \\\n",
    "            'renter_occupied_4quantiles_1.0', 'renter_occupied_4quantiles_2.0', \\\n",
    "            'renter_occupied_4quantiles_3.0', 'renter_occupied_4quantiles_4.0', \\\n",
    "            'renter_moved_2015/2010_later_4quantiles_1.0', 'renter_moved_2015/2010_later_4quantiles_2.0', \\\n",
    "            'renter_moved_2015/2010_later_4quantiles_3.0', 'renter_moved_2015/2010_later_4quantiles_4.0', \\\n",
    "            'renter_moved_2010-2014/2000-2009_4quantiles_1.0', 'renter_moved_2010-2014/2000-2009_4quantiles_2.0', \\\n",
    "            'renter_moved_2010-2014/2000-2009_4quantiles_3.0', 'renter_moved_2010-2014/2000-2009_4quantiles_4.0', \\\n",
    "            'renter_moved_2000-2009/1990-1999_4quantiles_1.0', 'renter_moved_2000-2009/1990-1999_4quantiles_2.0', \\\n",
    "            'renter_moved_2000-2009/1990-1999_4quantiles_3.0', 'renter_moved_2000-2009/1990-1999_4quantiles_4.0', \\\n",
    "            'renter_moved_1990-1999/1980-1989_4quantiles_1.0', 'renter_moved_1990-1999/1980-1989_4quantiles_2.0', \\\n",
    "            'renter_moved_1990-1999/1980-1989_4quantiles_3.0', 'renter_moved_1990-1999/1980-1989_4quantiles_4.0', \\\n",
    "            'renter_moved_1980-1989/1970-1979_4quantiles_1.0', 'renter_moved_1980-1989/1970-1979_4quantiles_2.0', \\\n",
    "            'renter_moved_1980-1989/1970-1979_4quantiles_3.0', 'renter_moved_1980-1989/1970-1979_4quantiles_4.0', \\\n",
    "            'renter_moved_1979/1969_earlier_4quantiles_1.0', 'renter_moved_1979/1969_earlier_4quantiles_2.0', \\\n",
    "            'renter_moved_1979/1969_earlier_4quantiles_3.0', 'renter_moved_1979/1969_earlier_4quantiles_4.0']"
   ]
  },
  {
   "cell_type": "code",
   "execution_count": 37,
   "metadata": {
    "scrolled": false
   },
   "outputs": [],
   "source": [
    "acs_2017 = pipeline.read('../data/raw/block-groups_2017_acs-only.csv')\n",
    "df_2017 = df[df['year']==2016][features + ['GEOID', 'year']]\n",
    "df_2017['year'] = 2017\n",
    "for col in el_features:\n",
    "    df_2017 = df_2017.rename({col: 'prev-yr_' + col})\n",
    "df_2017 = df_2017.merge(acs_2017, on=('GEOID', 'year'), how='left')"
   ]
  },
  {
   "cell_type": "code",
   "execution_count": 77,
   "metadata": {
    "scrolled": true
   },
   "outputs": [
    {
     "data": {
      "text/plain": [
       "3993"
      ]
     },
     "execution_count": 77,
     "metadata": {},
     "output_type": "execute_result"
    }
   ],
   "source": [
    "predict_X_final = df_2017[features]\n",
    "final_model = model.fit(train_X_final, train_y_final)\n",
    "predictions = pipeline.get_predictions(final_model, predict_X_final)\n",
    "df_2017['final_predictions'] = predictions\n",
    "df_2017.to_csv('../outputs/final_predictions.csv')"
   ]
  },
  {
   "cell_type": "code",
   "execution_count": 102,
   "metadata": {},
   "outputs": [],
   "source": [
    "with open(\"../outputs/final_model.txt\", \"w\") as text_file:\n",
    "    text_file.write(str(model))"
   ]
  }
 ],
 "metadata": {
  "kernelspec": {
   "display_name": "Python 3",
   "language": "python",
   "name": "python3"
  },
  "language_info": {
   "codemirror_mode": {
    "name": "ipython",
    "version": 3
   },
   "file_extension": ".py",
   "mimetype": "text/x-python",
   "name": "python",
   "nbconvert_exporter": "python",
   "pygments_lexer": "ipython3",
   "version": "3.5.2"
  }
 },
 "nbformat": 4,
 "nbformat_minor": 2
}
