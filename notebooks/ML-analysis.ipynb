{
 "cells": [
  {
   "cell_type": "code",
   "execution_count": 2,
   "metadata": {},
   "outputs": [
    {
     "name": "stderr",
     "output_type": "stream",
     "text": [
      "/usr/local/lib/python3.5/dist-packages/sklearn/ensemble/weight_boosting.py:29: DeprecationWarning: numpy.core.umath_tests is an internal NumPy module and should not be imported. It will be removed in a future NumPy release.\n",
      "  from numpy.core.umath_tests import inner1d\n"
     ]
    }
   ],
   "source": [
    "import sys\n",
    "sys.path.insert(0, '../scripts')\n",
    "import pipeline\n",
    "import pandas as pd"
   ]
  },
  {
   "cell_type": "markdown",
   "metadata": {},
   "source": [
    "# ML Analysis\n",
    "\n",
    "We start by exporting the data:"
   ]
  },
  {
   "cell_type": "code",
   "execution_count": 9,
   "metadata": {},
   "outputs": [],
   "source": [
    "file = '../data/work/block-groups_2012-2016_with-acs_with-q-features.csv'\n",
    "df = pipeline.read(file)"
   ]
  },
  {
   "cell_type": "markdown",
   "metadata": {},
   "source": [
    "Defining the train/test sets:"
   ]
  },
  {
   "cell_type": "code",
   "execution_count": 10,
   "metadata": {},
   "outputs": [],
   "source": [
    "years = [2013, 2014, 2015]\n",
    "dic_sets = {}\n",
    "for year in years:\n",
    "    next_year = year + 1\n",
    "    dic_sets['train_in_' + str(year)] = (df[df['year']==year], df[df['year']==next_year])"
   ]
  },
  {
   "cell_type": "code",
   "execution_count": 11,
   "metadata": {},
   "outputs": [
    {
     "name": "stdout",
     "output_type": "stream",
     "text": [
      "Index(['GEOID', 'year', 'name', 'parent-location', 'population',\n",
      "       'poverty-rate', 'renter-occupied-households', 'pct-renter-occupied',\n",
      "       'median-gross-rent', 'median-household-income',\n",
      "       ...\n",
      "       'renter_moved_1980-1989/1970-1979_4quantiles_1.0',\n",
      "       'renter_moved_1980-1989/1970-1979_4quantiles_2.0',\n",
      "       'renter_moved_1980-1989/1970-1979_4quantiles_3.0',\n",
      "       'renter_moved_1980-1989/1970-1979_4quantiles_4.0',\n",
      "       'renter_moved_1980-1989/1970-1979_4quantiles_nan',\n",
      "       'renter_moved_1979/1969_earlier_4quantiles_1.0',\n",
      "       'renter_moved_1979/1969_earlier_4quantiles_2.0',\n",
      "       'renter_moved_1979/1969_earlier_4quantiles_3.0',\n",
      "       'renter_moved_1979/1969_earlier_4quantiles_4.0',\n",
      "       'renter_moved_1979/1969_earlier_4quantiles_nan'],\n",
      "      dtype='object', length=1003)\n"
     ]
    }
   ],
   "source": [
    "pipeline.columns_list(df)"
   ]
  },
  {
   "cell_type": "markdown",
   "metadata": {},
   "source": [
    "Defining the feature columns:"
   ]
  },
  {
   "cell_type": "code",
   "execution_count": null,
   "metadata": {},
   "outputs": [],
   "source": [
    "features = ['population_4quantiles_1.0', 'population_4quantiles_2.0', 'population_4quantiles_3.0', \\\n",
    "            'population_4quantiles_4.0', 'poverty-rate_4quantiles_1.0', 'poverty-rate_4quantiles_2.0', \\\n",
    "            'poverty-rate_4quantiles_3.0', 'poverty-rate_4quantiles_4.0', \\\n",
    "            'renter-occupied-households_4quantiles_1.0', 'renter-occupied-households_4quantiles_2.0', \\\n",
    "            'renter-occupied-households_4quantiles_3.0', 'renter-occupied-households_4quantiles_4.0', \\\n",
    "            'pct-renter-occupied_4quantiles_1.0', 'pct-renter-occupied_4quantiles_2.0', \\\n",
    "            'pct-renter-occupied_4quantiles_3.0', 'pct-renter-occupied_4quantiles_4.0', \\\n",
    "            'median-gross-rent_4quantiles_1.0', 'median-gross-rent_4quantiles_2.0', \\\n",
    "            'median-gross-rent_4quantiles_3.0', 'median-gross-rent_4quantiles_4.0', \\\n",
    "            'median-gross-rent_4quantiles_1.0', 'median-gross-rent_4quantiles_2.0', \\\n",
    "            'median-gross-rent_4quantiles_3.0', 'median-gross-rent_4quantiles_4.0', \\\n",
    "            'median-gross-rent_4quantiles_nan', 'median-household-income_4quantiles_1.0', \\\n",
    "            'median-household-income_4quantiles_2.0', 'median-household-income_4quantiles_3.0', \\\n",
    "            'median-household-income_4quantiles_4.0', 'median-household-income_4quantiles_nan', \\\n",
    "            'median-property-value_4quantiles_1.0', 'median-property-value_4quantiles_2.0', \\\n",
    "            'median-property-value_4quantiles_3.0', 'median-property-value_4quantiles_4.0', \\\n",
    "            'median-property-value_4quantiles_nan', 'rent-burden_4quantiles_1.0', \\\n",
    "            'rent-burden_4quantiles_2.0', 'rent-burden_4quantiles_3.0', 'rent-burden_4quantiles_4.0', \\\n",
    "            'rent-burden_4quantiles_nan', '\n",
    "            pct-white_4quantiles_1.0\tpct-white_4quantiles_2.0\tpct-white_4quantiles_3.0\tpct-white_4quantiles_4.0\n",
    "            pct-af-am_4quantiles_1.0\tpct-af-am_4quantiles_2.0\tpct-af-am_4quantiles_3.0\tpct-af-am_4quantiles_4.0\n",
    "            pct-hispanic_4quantiles_1.0\tpct-hispanic_4quantiles_2.0\tpct-hispanic_4quantiles_3.0\tpct-hispanic_4quantiles_4.0\n",
    "            pct-am-ind_4quantiles_1.0\tpct-am-ind_4quantiles_2.0\tpct-am-ind_4quantiles_3.0\tpct-am-ind_4quantiles_4.0\n",
    "            pct-asian_4quantiles_1.0\tpct-asian_4quantiles_2.0\tpct-asian_4quantiles_3.0\tpct-asian_4quantiles_4.0\n",
    "            pct-nh-pi_4quantiles_1.0\tpct-nh-pi_4quantiles_2.0\tpct-nh-pi_4quantiles_3.0\tpct-nh-pi_4quantiles_4.0\n",
    "            pct-multiple_4quantiles_1.0\tpct-multiple_4quantiles_2.0\tpct-multiple_4quantiles_3.0\tpct-multiple_4quantiles_4.0\n",
    "            pct-other_4quantiles_1.0\tpct-other_4quantiles_2.0\tpct-other_4quantiles_3.0\tpct-other_4quantiles_4.0\n",
    "            \n",
    "            \n",
    "            ]"
   ]
  },
  {
   "cell_type": "markdown",
   "metadata": {},
   "source": [
    "Defining the label:"
   ]
  },
  {
   "cell_type": "code",
   "execution_count": null,
   "metadata": {},
   "outputs": [],
   "source": []
  }
 ],
 "metadata": {
  "kernelspec": {
   "display_name": "Python 3",
   "language": "python",
   "name": "python3"
  },
  "language_info": {
   "codemirror_mode": {
    "name": "ipython",
    "version": 3
   },
   "file_extension": ".py",
   "mimetype": "text/x-python",
   "name": "python",
   "nbconvert_exporter": "python",
   "pygments_lexer": "ipython3",
   "version": "3.5.2"
  }
 },
 "nbformat": 4,
 "nbformat_minor": 2
}
