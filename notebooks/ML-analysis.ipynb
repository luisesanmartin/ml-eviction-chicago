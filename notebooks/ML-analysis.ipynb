{
 "cells": [
  {
   "cell_type": "code",
   "execution_count": 1,
   "metadata": {},
   "outputs": [
    {
     "name": "stderr",
     "output_type": "stream",
     "text": [
      "/usr/local/lib/python3.5/dist-packages/sklearn/ensemble/weight_boosting.py:29: DeprecationWarning: numpy.core.umath_tests is an internal NumPy module and should not be imported. It will be removed in a future NumPy release.\n",
      "  from numpy.core.umath_tests import inner1d\n"
     ]
    }
   ],
   "source": [
    "import sys\n",
    "sys.path.insert(0, '../scripts')\n",
    "import pipeline\n",
    "import pandas as pd"
   ]
  },
  {
   "cell_type": "markdown",
   "metadata": {},
   "source": [
    "# ML Analysis\n",
    "\n",
    "We start by exporting the data:"
   ]
  },
  {
   "cell_type": "code",
   "execution_count": 2,
   "metadata": {},
   "outputs": [],
   "source": [
    "file = '../data/work/block-groups_2012-2016_with-acs_with-q-features.csv'\n",
    "df = pipeline.read(file)"
   ]
  },
  {
   "cell_type": "markdown",
   "metadata": {},
   "source": [
    "Defining the train/test sets:"
   ]
  },
  {
   "cell_type": "code",
   "execution_count": 3,
   "metadata": {},
   "outputs": [],
   "source": [
    "#years = [2013, 2014, 2015]\n",
    "years = [2013]\n",
    "dic_sets = {}\n",
    "for year in years:\n",
    "    next_year = year + 1\n",
    "    dic_sets['train_in_' + str(year)] = (df[df['year']==year], df[df['year']==next_year])"
   ]
  },
  {
   "cell_type": "code",
   "execution_count": 4,
   "metadata": {},
   "outputs": [
    {
     "name": "stdout",
     "output_type": "stream",
     "text": [
      "Index(['GEOID', 'year', 'name', 'parent-location', 'population',\n",
      "       'poverty-rate', 'renter-occupied-households', 'pct-renter-occupied',\n",
      "       'median-gross-rent', 'median-household-income',\n",
      "       ...\n",
      "       'decile_by_year_4quantiles_1.0', 'decile_by_year_4quantiles_2.0',\n",
      "       'decile_by_year_4quantiles_3.0', 'decile_by_year_4quantiles_4.0',\n",
      "       'decile_by_year_4quantiles_nan', 'upper10th_by_year_4quantiles_1.0',\n",
      "       'upper10th_by_year_4quantiles_2.0', 'upper10th_by_year_4quantiles_3.0',\n",
      "       'upper10th_by_year_4quantiles_4.0', 'upper10th_by_year_4quantiles_nan'],\n",
      "      dtype='object', length=256)\n"
     ]
    }
   ],
   "source": [
    "pipeline.columns_list(df)"
   ]
  },
  {
   "cell_type": "markdown",
   "metadata": {},
   "source": [
    "Defining the feature columns:"
   ]
  },
  {
   "cell_type": "code",
   "execution_count": 5,
   "metadata": {},
   "outputs": [],
   "source": [
    "features = ['population_4quantiles_1.0', 'population_4quantiles_2.0', 'population_4quantiles_3.0', \\\n",
    "            'population_4quantiles_4.0', 'poverty-rate_4quantiles_1.0', 'poverty-rate_4quantiles_2.0', \\\n",
    "            'poverty-rate_4quantiles_3.0', 'poverty-rate_4quantiles_4.0', \\\n",
    "            'renter-occupied-households_4quantiles_1.0', 'renter-occupied-households_4quantiles_2.0', \\\n",
    "            'renter-occupied-households_4quantiles_3.0', 'renter-occupied-households_4quantiles_4.0', \\\n",
    "            'pct-renter-occupied_4quantiles_1.0', 'pct-renter-occupied_4quantiles_2.0', \\\n",
    "            'pct-renter-occupied_4quantiles_3.0', 'pct-renter-occupied_4quantiles_4.0', \\\n",
    "            'median-gross-rent_4quantiles_1.0', 'median-gross-rent_4quantiles_2.0', \\\n",
    "            'median-gross-rent_4quantiles_3.0', 'median-gross-rent_4quantiles_4.0', \\\n",
    "            'median-gross-rent_4quantiles_1.0', 'median-gross-rent_4quantiles_2.0', \\\n",
    "            'median-gross-rent_4quantiles_3.0', 'median-gross-rent_4quantiles_4.0', \\\n",
    "            'median-gross-rent_4quantiles_nan', 'median-household-income_4quantiles_1.0', \\\n",
    "            'median-household-income_4quantiles_2.0', 'median-household-income_4quantiles_3.0', \\\n",
    "            'median-household-income_4quantiles_4.0', 'median-household-income_4quantiles_nan', \\\n",
    "            'median-property-value_4quantiles_1.0', 'median-property-value_4quantiles_2.0', \\\n",
    "            'median-property-value_4quantiles_3.0', 'median-property-value_4quantiles_4.0', \\\n",
    "            'median-property-value_4quantiles_nan', 'rent-burden_4quantiles_1.0', \\\n",
    "            'rent-burden_4quantiles_2.0', 'rent-burden_4quantiles_3.0', 'rent-burden_4quantiles_4.0', \\\n",
    "            'rent-burden_4quantiles_nan', 'pct-white_4quantiles_1.0', 'pct-white_4quantiles_2.0', \\\n",
    "            'pct-white_4quantiles_3.0', 'pct-white_4quantiles_4.0', 'pct-af-am_4quantiles_1.0', \\\n",
    "            'pct-af-am_4quantiles_2.0', 'pct-af-am_4quantiles_3.0', 'pct-af-am_4quantiles_4.0', \\\n",
    "            'pct-hispanic_4quantiles_1.0', 'pct-hispanic_4quantiles_2.0', 'pct-hispanic_4quantiles_3.0', \\\n",
    "            'pct-hispanic_4quantiles_4.0', 'pct-am-ind_4quantiles_1.0', 'pct-am-ind_4quantiles_2.0', \\\n",
    "            'pct-am-ind_4quantiles_3.0', 'pct-am-ind_4quantiles_4.0', 'pct-asian_4quantiles_1.0', \\\n",
    "            'pct-asian_4quantiles_2.0', 'pct-asian_4quantiles_3.0', 'pct-asian_4quantiles_4.0', \\\n",
    "            'pct-nh-pi_4quantiles_1.0', 'pct-nh-pi_4quantiles_2.0', 'pct-nh-pi_4quantiles_3.0', \\\n",
    "            'pct-nh-pi_4quantiles_4.0', 'pct-multiple_4quantiles_1.0', 'pct-multiple_4quantiles_2.0', \\\n",
    "            'pct-multiple_4quantiles_3.0', 'pct-multiple_4quantiles_4.0', 'pct-other_4quantiles_1.0', \\\n",
    "            'pct-other_4quantiles_2.0', 'pct-other_4quantiles_3.0', 'pct-other_4quantiles_4.0', \\\n",
    "            'total_for_public_assistance_income_4quantiles_1.0', \\\n",
    "            'total_for_public_assistance_income_4quantiles_2.0', \\\n",
    "            'total_for_public_assistance_income_4quantiles_3.0', \\\n",
    "            'total_for_public_assistance_income_4quantiles_4.0', \\\n",
    "            'with_public_assistance_income_4quantiles_1.0', 'with_public_assistance_income_4quantiles_2.0', \\\n",
    "            'with_public_assistance_income_4quantiles_3.0', 'with_public_assistance_income_4quantiles_4.0', \\\n",
    "            'estimate_total_in_labor_force_4quantiles_1.0', 'estimate_total_in_labor_force_4quantiles_2.0', \\\n",
    "            'estimate_total_in_labor_force_4quantiles_3.0', 'estimate_total_in_labor_force_4quantiles_4.0', \\\n",
    "            'estimate_civilian_unemployed_4quantiles_1.0', 'estimate_civilian_unemployed_4quantiles_2.0', \\\n",
    "            'estimate_civilian_unemployed_4quantiles_3.0', 'estimate_civilian_unemployed_4quantiles_4.0', \\\n",
    "            'total_for_householder_tenure_4quantiles_1.0', 'total_for_householder_tenure_4quantiles_2.0', \\\n",
    "            'total_for_householder_tenure_4quantiles_3.0', 'total_for_householder_tenure_4quantiles_4.0', \\\n",
    "            'renter_occupied_4quantiles_1.0', 'renter_occupied_4quantiles_2.0', \\\n",
    "            'renter_occupied_4quantiles_3.0', 'renter_occupied_4quantiles_4.0', \\\n",
    "            'renter_moved_2015/2010_later_4quantiles_1.0', 'renter_moved_2015/2010_later_4quantiles_2.0', \\\n",
    "            'renter_moved_2015/2010_later_4quantiles_3.0', 'renter_moved_2015/2010_later_4quantiles_4.0', \\\n",
    "            'renter_moved_2010-2014/2000-2009_4quantiles_1.0', 'renter_moved_2010-2014/2000-2009_4quantiles_2.0', \\\n",
    "            'renter_moved_2010-2014/2000-2009_4quantiles_3.0', 'renter_moved_2010-2014/2000-2009_4quantiles_4.0', \\\n",
    "            'renter_moved_2000-2009/1990-1999_4quantiles_1.0', 'renter_moved_2000-2009/1990-1999_4quantiles_2.0', \\\n",
    "            'renter_moved_2000-2009/1990-1999_4quantiles_3.0', 'renter_moved_2000-2009/1990-1999_4quantiles_4.0', \\\n",
    "            'renter_moved_1990-1999/1980-1989_4quantiles_1.0', 'renter_moved_1990-1999/1980-1989_4quantiles_2.0', \\\n",
    "            'renter_moved_1990-1999/1980-1989_4quantiles_3.0', 'renter_moved_1990-1999/1980-1989_4quantiles_4.0', \\\n",
    "            'renter_moved_1980-1989/1970-1979_4quantiles_1.0', 'renter_moved_1980-1989/1970-1979_4quantiles_2.0', \\\n",
    "            'renter_moved_1980-1989/1970-1979_4quantiles_3.0', 'renter_moved_1980-1989/1970-1979_4quantiles_4.0', \\\n",
    "            'renter_moved_1979/1969_earlier_4quantiles_1.0', 'renter_moved_1979/1969_earlier_4quantiles_2.0', \\\n",
    "            'renter_moved_1979/1969_earlier_4quantiles_3.0', 'renter_moved_1979/1969_earlier_4quantiles_4.0']"
   ]
  },
  {
   "cell_type": "markdown",
   "metadata": {},
   "source": [
    "Defining the label:"
   ]
  },
  {
   "cell_type": "code",
   "execution_count": 6,
   "metadata": {},
   "outputs": [],
   "source": [
    "label = 'upper10th_by_year'"
   ]
  },
  {
   "cell_type": "markdown",
   "metadata": {},
   "source": [
    "Setting the parameters for the evaluation table:"
   ]
  },
  {
   "cell_type": "code",
   "execution_count": 7,
   "metadata": {},
   "outputs": [],
   "source": [
    "#fractions = [0.01, 0.02, 0.05, 0.1, 0.2, 0.3, 0.5]\n",
    "fractions = [0.01, 0.05, 0.1]\n",
    "#classifiers = pipeline.CLASSIFIERS\n",
    "classifiers = pipeline.CLASSIFIERS_temp\n",
    "parameters = pipeline.PARAMETERS"
   ]
  },
  {
   "cell_type": "markdown",
   "metadata": {},
   "source": [
    "Creating the evaluation table:"
   ]
  },
  {
   "cell_type": "code",
   "execution_count": null,
   "metadata": {
    "scrolled": true
   },
   "outputs": [
    {
     "name": "stdout",
     "output_type": "stream",
     "text": [
      "Dataset: train_in_2013\n",
      "Predicting every data point's value to be 1, the accuracy is 10.0 %\n",
      "\n",
      "Running model 1 out of 90\n",
      "Progress: 1.1 %\n",
      "Classifier: Ada boosting\n"
     ]
    }
   ],
   "source": [
    "evaluation_table = pipeline.evaluation_table(classifiers, parameters, dic_sets, fractions, features, label)"
   ]
  },
  {
   "cell_type": "markdown",
   "metadata": {},
   "source": [
    "Exporting the evaluation table:"
   ]
  },
  {
   "cell_type": "code",
   "execution_count": null,
   "metadata": {},
   "outputs": [],
   "source": [
    "#evaluation_table.to_csv('../outputs/evaluation_table.csv')"
   ]
  }
 ],
 "metadata": {
  "kernelspec": {
   "display_name": "Python 3",
   "language": "python",
   "name": "python3"
  },
  "language_info": {
   "codemirror_mode": {
    "name": "ipython",
    "version": 3
   },
   "file_extension": ".py",
   "mimetype": "text/x-python",
   "name": "python",
   "nbconvert_exporter": "python",
   "pygments_lexer": "ipython3",
   "version": "3.5.2"
  }
 },
 "nbformat": 4,
 "nbformat_minor": 2
}
