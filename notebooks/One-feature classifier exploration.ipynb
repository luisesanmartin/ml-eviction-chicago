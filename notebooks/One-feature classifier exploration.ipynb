{
 "cells": [
  {
   "cell_type": "markdown",
   "metadata": {},
   "source": [
    "# One-feature classifier exploration\n",
    "\n",
    "This notebook presents results on creating one-feature classifiers, as a way of exploring which of them could have more predictive power.\n",
    "\n",
    "## Reading the data"
   ]
  },
  {
   "cell_type": "code",
   "execution_count": 1,
   "metadata": {},
   "outputs": [],
   "source": [
    "import sys\n",
    "sys.path.insert(0, '../scripts')\n",
    "import classifiers\n",
    "import preparation\n",
    "import evaluation\n",
    "import pandas as pd"
   ]
  },
  {
   "cell_type": "code",
   "execution_count": 2,
   "metadata": {},
   "outputs": [],
   "source": [
    "df = pd.read_csv(\"../data/raw/block-groups.csv\")"
   ]
  },
  {
   "cell_type": "markdown",
   "metadata": {},
   "source": [
    "Now we keep only the block groups in the Cook County for years 2016"
   ]
  },
  {
   "cell_type": "code",
   "execution_count": 3,
   "metadata": {},
   "outputs": [],
   "source": [
    "df = df[df['parent-location']=='Cook County, Illinois']\n",
    "#df = df[(df['year']>=2012) & (df['year']<=2016)]\n",
    "df = df[df['year']==2016]"
   ]
  },
  {
   "cell_type": "markdown",
   "metadata": {},
   "source": [
    "Now we generate our desired label: upper 10% of # evictions / # eviction filings -- I arbitrarily call it 'evictions-effectiveness'"
   ]
  },
  {
   "cell_type": "code",
   "execution_count": 4,
   "metadata": {},
   "outputs": [],
   "source": [
    "df['evictions-effectiveness'] = df['evictions'] / df['eviction-filings']\n",
    "preparation.fill_nas_other(df, 'evictions-effectiveness', 0)\n",
    "perc90 = df['evictions-effectiveness'].quantile(0.9)\n",
    "df.loc[df['evictions-effectiveness'] >= perc90, 'upper10'] = 1\n",
    "df.loc[df['upper10'].isna(), 'upper10'] = 0\n",
    "y = df['upper10']"
   ]
  },
  {
   "cell_type": "markdown",
   "metadata": {},
   "source": [
    "## Now we analyze\n",
    "\n",
    "This is the approach:\n",
    "\n",
    "1. Select the features we'll use\n",
    "2. Impute missing values\n",
    "3. Loop over each feature and build every classifier with every feature\n",
    "4. Present all the results in a table to compare them"
   ]
  },
  {
   "cell_type": "code",
   "execution_count": 5,
   "metadata": {},
   "outputs": [],
   "source": [
    "features = ['population', 'poverty-rate', 'renter-occupied-households', 'pct-renter-occupied', \\\n",
    "            'median-gross-rent', 'median-household-income', 'median-property-value', 'rent-burden', 'pct-white', \\\n",
    "            'pct-af-am', 'pct-hispanic', 'pct-am-ind', 'pct-asian', 'pct-nh-pi', 'pct-multiple', 'pct-other']"
   ]
  },
  {
   "cell_type": "code",
   "execution_count": 6,
   "metadata": {},
   "outputs": [],
   "source": [
    "impute_median = ['median-gross-rent', 'median-household-income', 'median-property-value', 'rent-burden']\n",
    "for feature in impute_median:\n",
    "    preparation.fill_nas_median(df, feature)"
   ]
  },
  {
   "cell_type": "code",
   "execution_count": 7,
   "metadata": {},
   "outputs": [],
   "source": [
    "test_sets = {}\n",
    "test_sets_list = []\n",
    "for feature in features:\n",
    "    test_sets[feature] = df[feature].values.reshape(-1, 1)\n",
    "    test_sets_list.append(df[feature])"
   ]
  },
  {
   "cell_type": "code",
   "execution_count": 8,
   "metadata": {},
   "outputs": [
    {
     "name": "stderr",
     "output_type": "stream",
     "text": [
      "/home/luis_eduardo/.local/lib/python3.6/site-packages/sklearn/svm/base.py:931: ConvergenceWarning: Liblinear failed to converge, increase the number of iterations.\n",
      "  \"the number of iterations.\", ConvergenceWarning)\n",
      "/home/luis_eduardo/.local/lib/python3.6/site-packages/sklearn/svm/base.py:931: ConvergenceWarning: Liblinear failed to converge, increase the number of iterations.\n",
      "  \"the number of iterations.\", ConvergenceWarning)\n",
      "/home/luis_eduardo/.local/lib/python3.6/site-packages/sklearn/svm/base.py:931: ConvergenceWarning: Liblinear failed to converge, increase the number of iterations.\n",
      "  \"the number of iterations.\", ConvergenceWarning)\n",
      "/home/luis_eduardo/.local/lib/python3.6/site-packages/sklearn/svm/base.py:931: ConvergenceWarning: Liblinear failed to converge, increase the number of iterations.\n",
      "  \"the number of iterations.\", ConvergenceWarning)\n",
      "/home/luis_eduardo/.local/lib/python3.6/site-packages/sklearn/svm/base.py:931: ConvergenceWarning: Liblinear failed to converge, increase the number of iterations.\n",
      "  \"the number of iterations.\", ConvergenceWarning)\n",
      "/home/luis_eduardo/.local/lib/python3.6/site-packages/sklearn/svm/base.py:931: ConvergenceWarning: Liblinear failed to converge, increase the number of iterations.\n",
      "  \"the number of iterations.\", ConvergenceWarning)\n",
      "/home/luis_eduardo/.local/lib/python3.6/site-packages/sklearn/svm/base.py:931: ConvergenceWarning: Liblinear failed to converge, increase the number of iterations.\n",
      "  \"the number of iterations.\", ConvergenceWarning)\n",
      "/home/luis_eduardo/.local/lib/python3.6/site-packages/sklearn/svm/base.py:931: ConvergenceWarning: Liblinear failed to converge, increase the number of iterations.\n",
      "  \"the number of iterations.\", ConvergenceWarning)\n",
      "/home/luis_eduardo/.local/lib/python3.6/site-packages/sklearn/svm/base.py:931: ConvergenceWarning: Liblinear failed to converge, increase the number of iterations.\n",
      "  \"the number of iterations.\", ConvergenceWarning)\n",
      "/home/luis_eduardo/.local/lib/python3.6/site-packages/sklearn/svm/base.py:931: ConvergenceWarning: Liblinear failed to converge, increase the number of iterations.\n",
      "  \"the number of iterations.\", ConvergenceWarning)\n",
      "/home/luis_eduardo/.local/lib/python3.6/site-packages/sklearn/svm/base.py:931: ConvergenceWarning: Liblinear failed to converge, increase the number of iterations.\n",
      "  \"the number of iterations.\", ConvergenceWarning)\n",
      "/home/luis_eduardo/.local/lib/python3.6/site-packages/sklearn/svm/base.py:931: ConvergenceWarning: Liblinear failed to converge, increase the number of iterations.\n",
      "  \"the number of iterations.\", ConvergenceWarning)\n",
      "/home/luis_eduardo/.local/lib/python3.6/site-packages/sklearn/svm/base.py:931: ConvergenceWarning: Liblinear failed to converge, increase the number of iterations.\n",
      "  \"the number of iterations.\", ConvergenceWarning)\n",
      "/home/luis_eduardo/.local/lib/python3.6/site-packages/sklearn/svm/base.py:931: ConvergenceWarning: Liblinear failed to converge, increase the number of iterations.\n",
      "  \"the number of iterations.\", ConvergenceWarning)\n",
      "/home/luis_eduardo/.local/lib/python3.6/site-packages/sklearn/svm/base.py:931: ConvergenceWarning: Liblinear failed to converge, increase the number of iterations.\n",
      "  \"the number of iterations.\", ConvergenceWarning)\n",
      "/home/luis_eduardo/.local/lib/python3.6/site-packages/sklearn/svm/base.py:931: ConvergenceWarning: Liblinear failed to converge, increase the number of iterations.\n",
      "  \"the number of iterations.\", ConvergenceWarning)\n"
     ]
    }
   ],
   "source": [
    "models = []\n",
    "test_sets_list = []\n",
    "for feature in features:\n",
    "    models.append(classifiers.boosting(test_sets[feature], y))\n",
    "    models.append(classifiers.bagging(test_sets[feature], y))\n",
    "    models.append(classifiers.random_forest(test_sets[feature], y))\n",
    "    models.append(classifiers.svm(test_sets[feature], y))\n",
    "    models.append(classifiers.logistic_regression(test_sets[feature], y))\n",
    "    models.append(classifiers.decision_tree(test_sets[feature], y))\n",
    "    models.append(classifiers.nearest_neighbors(test_sets[feature], y))\n",
    "    test_sets_list += [df[feature]] * 7"
   ]
  },
  {
   "cell_type": "code",
   "execution_count": 9,
   "metadata": {},
   "outputs": [
    {
     "name": "stdout",
     "output_type": "stream",
     "text": [
      "Predicting every data point's value to be 0, the accuracy is 89.2 %\n"
     ]
    },
    {
     "name": "stderr",
     "output_type": "stream",
     "text": [
      "../scripts/evaluation.py:63: RuntimeWarning: invalid value encountered in long_scalars\n",
      "  prec = true_positives / (false_positive + true_positives)\n",
      "../scripts/evaluation.py:63: RuntimeWarning: invalid value encountered in long_scalars\n",
      "  prec = true_positives / (false_positive + true_positives)\n",
      "../scripts/evaluation.py:63: RuntimeWarning: invalid value encountered in long_scalars\n",
      "  prec = true_positives / (false_positive + true_positives)\n"
     ]
    }
   ],
   "source": [
    "table = evaluation.evaluation_table2(models, test_sets_list, y)"
   ]
  },
  {
   "cell_type": "markdown",
   "metadata": {},
   "source": [
    "## Exporting results\n",
    "\n",
    "Exporting into a csv file"
   ]
  },
  {
   "cell_type": "code",
   "execution_count": 16,
   "metadata": {},
   "outputs": [],
   "source": [
    "table.to_csv('../outputs/one-feature_classifiers_May20.csv')"
   ]
  }
 ],
 "metadata": {
  "kernelspec": {
   "display_name": "Python 3",
   "language": "python",
   "name": "python3"
  },
  "language_info": {
   "codemirror_mode": {
    "name": "ipython",
    "version": 3
   },
   "file_extension": ".py",
   "mimetype": "text/x-python",
   "name": "python",
   "nbconvert_exporter": "python",
   "pygments_lexer": "ipython3",
   "version": "3.6.7"
  }
 },
 "nbformat": 4,
 "nbformat_minor": 2
}
